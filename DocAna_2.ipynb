{
 "cells": [
  {
   "cell_type": "markdown",
   "id": "466024e2",
   "metadata": {},
   "source": [
    "# Document Analysis "
   ]
  },
  {
   "cell_type": "markdown",
   "id": "b4638218",
   "metadata": {},
   "source": [
    "<div class=\"alert alert-info\"><b>\n",
    "Project description  </b> \n",
    "\n",
    "Data source:  \n",
    "  \n",
    "    \n",
    "Goal:\n",
    "    \n",
    "</div>\n",
    "\n"
   ]
  },
  {
   "cell_type": "markdown",
   "id": "f8126e11",
   "metadata": {},
   "source": [
    "## 1. Text pre-processing"
   ]
  },
  {
   "cell_type": "code",
   "execution_count": 1,
   "id": "323615a6-a29d-4cb2-8831-f4480f6f99fd",
   "metadata": {},
   "outputs": [],
   "source": [
    "import requests"
   ]
  },
  {
   "cell_type": "code",
   "execution_count": null,
   "id": "8487a195",
   "metadata": {},
   "outputs": [],
   "source": []
  }
 ],
 "metadata": {
  "kernelspec": {
   "display_name": "Python 3 (ipykernel)",
   "language": "python",
   "name": "python3"
  },
  "language_info": {
   "codemirror_mode": {
    "name": "ipython",
    "version": 3
   },
   "file_extension": ".py",
   "mimetype": "text/x-python",
   "name": "python",
   "nbconvert_exporter": "python",
   "pygments_lexer": "ipython3",
   "version": "3.10.9"
  }
 },
 "nbformat": 4,
 "nbformat_minor": 5
}
