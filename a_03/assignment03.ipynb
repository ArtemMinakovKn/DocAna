{
 "cells": [
  {
   "cell_type": "markdown",
   "metadata": {},
   "source": [
    "<div style=\"text-align: center;\" >\n",
    "<h1 style=\"margin-top: 0.2em; margin-bottom: 0.1em;\">Assignment 3</h1>\n",
    "<h4 style=\"margin-top: 0.7em; margin-bottom: 0.3em; font-style:italic\">Commit your solutions to GitHub until June 21, 23:59</h4>\n",
    "</div>\n",
    "<br>"
   ]
  },
  {
   "cell_type": "markdown",
   "metadata": {},
   "source": [
    "## Part 1 \n",
    "## Sentiment Evaluation of Twitter and YouTube Data"
   ]
  },
  {
   "cell_type": "markdown",
   "metadata": {},
   "source": [
    "### Tasks\n",
    "\n",
    "1. Install packages and load evaluation datasets with Google NLP scores\n",
    "2. Run VADER over evaluation texts\n",
    "3. Run BERT over evaluation texts\n",
    "4. Evaluate against sentiment annotations and compare with Google NLP"
   ]
  },
  {
   "cell_type": "markdown",
   "metadata": {},
   "source": [
    "### Install requirements. \n",
    "\n",
    "The following cell contains all the necessary dependencies needed for this task. If you run the cell everything will be installed. \n",
    "\n",
    "* [`vaderSentiment`](https://github.com/cjhutto/vaderSentiment) is a Python package for a Parsimonious Rule-based Model for Sentiment Analysis of Social Media Text.\n",
    "* [`transformers`](https://huggingface.co/) is a Python package for creating and working with transformers. [Here](https://huggingface.co/docs) is the documentation of `transformers`.\n",
    "* [`torch`](https://pytorch.org/) is a Python machine learning framework. We need this here for `transformers` since this package uses internally `torch`. [Here](https://pytorch.org/docs/stable/index.html) is the documentation of `torch`.\n",
    "* [`pandas`](https://pandas.pydata.org/docs/index.html) is a Python package for creating and working with tabular data. [Here](https://pandas.pydata.org/docs/reference/index.html) is the documentation of `pandas`."
   ]
  },
  {
   "cell_type": "markdown",
   "metadata": {},
   "source": [
    "You may need to restart the Kernel after installing the dependencies!"
   ]
  },
  {
   "cell_type": "markdown",
   "metadata": {},
   "source": [
    "### Import requirements\n",
    "The cell below imports all necessary dependancies. Make sure they are installed (see cell above)."
   ]
  },
  {
   "cell_type": "code",
   "execution_count": 1,
   "metadata": {
    "scrolled": true
   },
   "outputs": [],
   "source": [
    "import pandas as pd\n",
    "from vaderSentiment.vaderSentiment import SentimentIntensityAnalyzer\n",
    "from transformers import pipeline"
   ]
  },
  {
   "cell_type": "markdown",
   "metadata": {},
   "source": [
    "### Exercise 1: Load evaluation datasets and Google NLP scores\n",
    "\n",
    "#### 1.1 Load datasets\n",
    "First read the Twitter and Youtube Comments CSV files (`Twitter-Sentiment.csv` and `YouTubeComments-Sentiment.csv`) and save them in a pandas Dataframe."
   ]
  },
  {
   "cell_type": "code",
   "execution_count": 2,
   "metadata": {},
   "outputs": [],
   "source": [
    "# Load datasets\n",
    "twitter_df = pd.read_csv('Twitter-Sentiment.csv')\n",
    "youtube_df = pd.read_csv('YouTubeComments-Sentiment.csv')"
   ]
  },
  {
   "cell_type": "code",
   "execution_count": 3,
   "metadata": {},
   "outputs": [
    {
     "name": "stdout",
     "output_type": "stream",
     "text": [
      "<class 'pandas.core.frame.DataFrame'>\n",
      "RangeIndex: 4209 entries, 0 to 4208\n",
      "Data columns (total 3 columns):\n",
      " #   Column       Non-Null Count  Dtype  \n",
      "---  ------       --------------  -----  \n",
      " 0   label        4209 non-null   object \n",
      " 1   text         4209 non-null   object \n",
      " 2   googleScore  4209 non-null   float64\n",
      "dtypes: float64(1), object(2)\n",
      "memory usage: 98.8+ KB\n"
     ]
    }
   ],
   "source": [
    "# check info\n",
    "twitter_df.info()"
   ]
  },
  {
   "cell_type": "code",
   "execution_count": 4,
   "metadata": {},
   "outputs": [
    {
     "data": {
      "text/html": [
       "<div>\n",
       "<style scoped>\n",
       "    .dataframe tbody tr th:only-of-type {\n",
       "        vertical-align: middle;\n",
       "    }\n",
       "\n",
       "    .dataframe tbody tr th {\n",
       "        vertical-align: top;\n",
       "    }\n",
       "\n",
       "    .dataframe thead th {\n",
       "        text-align: right;\n",
       "    }\n",
       "</style>\n",
       "<table border=\"1\" class=\"dataframe\">\n",
       "  <thead>\n",
       "    <tr style=\"text-align: right;\">\n",
       "      <th></th>\n",
       "      <th>label</th>\n",
       "      <th>text</th>\n",
       "      <th>googleScore</th>\n",
       "    </tr>\n",
       "  </thead>\n",
       "  <tbody>\n",
       "    <tr>\n",
       "      <th>0</th>\n",
       "      <td>Positive</td>\n",
       "      <td>?RT @justinbiebcr: The bigger the better....if...</td>\n",
       "      <td>0.3</td>\n",
       "    </tr>\n",
       "    <tr>\n",
       "      <th>1</th>\n",
       "      <td>Positive</td>\n",
       "      <td>Listening to the \"New Age\" station on @Slacker...</td>\n",
       "      <td>0.2</td>\n",
       "    </tr>\n",
       "    <tr>\n",
       "      <th>2</th>\n",
       "      <td>Neutral</td>\n",
       "      <td>I favorited a YouTube video -- Drake and Josh ...</td>\n",
       "      <td>0.0</td>\n",
       "    </tr>\n",
       "    <tr>\n",
       "      <th>3</th>\n",
       "      <td>Positive</td>\n",
       "      <td>i didnt mean knee high I ment in lengt it goes...</td>\n",
       "      <td>0.8</td>\n",
       "    </tr>\n",
       "    <tr>\n",
       "      <th>4</th>\n",
       "      <td>Neutral</td>\n",
       "      <td>I wana see the vid Kyan</td>\n",
       "      <td>0.0</td>\n",
       "    </tr>\n",
       "  </tbody>\n",
       "</table>\n",
       "</div>"
      ],
      "text/plain": [
       "      label                                               text  googleScore\n",
       "0  Positive  ?RT @justinbiebcr: The bigger the better....if...          0.3\n",
       "1  Positive  Listening to the \"New Age\" station on @Slacker...          0.2\n",
       "2   Neutral  I favorited a YouTube video -- Drake and Josh ...          0.0\n",
       "3  Positive  i didnt mean knee high I ment in lengt it goes...          0.8\n",
       "4   Neutral                            I wana see the vid Kyan          0.0"
      ]
     },
     "execution_count": 4,
     "metadata": {},
     "output_type": "execute_result"
    }
   ],
   "source": [
    "twitter_df.head()"
   ]
  },
  {
   "cell_type": "code",
   "execution_count": 5,
   "metadata": {
    "scrolled": true
   },
   "outputs": [
    {
     "name": "stdout",
     "output_type": "stream",
     "text": [
      "<class 'pandas.core.frame.DataFrame'>\n",
      "RangeIndex: 3293 entries, 0 to 3292\n",
      "Data columns (total 3 columns):\n",
      " #   Column       Non-Null Count  Dtype  \n",
      "---  ------       --------------  -----  \n",
      " 0   label        3293 non-null   object \n",
      " 1   text         3293 non-null   object \n",
      " 2   googleScore  3293 non-null   float64\n",
      "dtypes: float64(1), object(2)\n",
      "memory usage: 77.3+ KB\n"
     ]
    }
   ],
   "source": [
    "# check info\n",
    "youtube_df.info()"
   ]
  },
  {
   "cell_type": "code",
   "execution_count": 6,
   "metadata": {},
   "outputs": [
    {
     "data": {
      "text/html": [
       "<div>\n",
       "<style scoped>\n",
       "    .dataframe tbody tr th:only-of-type {\n",
       "        vertical-align: middle;\n",
       "    }\n",
       "\n",
       "    .dataframe tbody tr th {\n",
       "        vertical-align: top;\n",
       "    }\n",
       "\n",
       "    .dataframe thead th {\n",
       "        text-align: right;\n",
       "    }\n",
       "</style>\n",
       "<table border=\"1\" class=\"dataframe\">\n",
       "  <thead>\n",
       "    <tr style=\"text-align: right;\">\n",
       "      <th></th>\n",
       "      <th>label</th>\n",
       "      <th>text</th>\n",
       "      <th>googleScore</th>\n",
       "    </tr>\n",
       "  </thead>\n",
       "  <tbody>\n",
       "    <tr>\n",
       "      <th>0</th>\n",
       "      <td>Negative</td>\n",
       "      <td>when the time comes for all to know it will be...</td>\n",
       "      <td>0.1</td>\n",
       "    </tr>\n",
       "    <tr>\n",
       "      <th>1</th>\n",
       "      <td>Neutral</td>\n",
       "      <td>@princessofportk The first are a pair of devil...</td>\n",
       "      <td>0.1</td>\n",
       "    </tr>\n",
       "    <tr>\n",
       "      <th>2</th>\n",
       "      <td>Neutral</td>\n",
       "      <td>I gotta feeling they partlishly took it off fo...</td>\n",
       "      <td>-0.3</td>\n",
       "    </tr>\n",
       "    <tr>\n",
       "      <th>3</th>\n",
       "      <td>Positive</td>\n",
       "      <td>As we look at ways to be relevant, here is a g...</td>\n",
       "      <td>0.7</td>\n",
       "    </tr>\n",
       "    <tr>\n",
       "      <th>4</th>\n",
       "      <td>Neutral</td>\n",
       "      <td>Not a lot of \"removing\" going on here... bucke...</td>\n",
       "      <td>-0.3</td>\n",
       "    </tr>\n",
       "  </tbody>\n",
       "</table>\n",
       "</div>"
      ],
      "text/plain": [
       "      label                                               text  googleScore\n",
       "0  Negative  when the time comes for all to know it will be...          0.1\n",
       "1   Neutral  @princessofportk The first are a pair of devil...          0.1\n",
       "2   Neutral  I gotta feeling they partlishly took it off fo...         -0.3\n",
       "3  Positive  As we look at ways to be relevant, here is a g...          0.7\n",
       "4   Neutral  Not a lot of \"removing\" going on here... bucke...         -0.3"
      ]
     },
     "execution_count": 6,
     "metadata": {},
     "output_type": "execute_result"
    }
   ],
   "source": [
    "youtube_df.head()"
   ]
  },
  {
   "cell_type": "markdown",
   "metadata": {},
   "source": [
    "### Exercise 2: Run VADER over evaluation texts *(2 points)*\n",
    "\n",
    "#### 2.1 Run VADER over the first tweet\n",
    "\n",
    "In this task you should use VADER for sentiment analysis. For this we use the `vaderSentiment` package. You first have to instantiate a new `SentimentIntensityAnalyzer` and use the `polarity_scores` method of it for the analysis. Apply this for the first tweet. Is it a good classification?\n",
    "\n",
    "[Here](https://github.com/cjhutto/vaderSentiment) under 'Code Examples' you can find some example code how to use this package."
   ]
  },
  {
   "cell_type": "code",
   "execution_count": 7,
   "metadata": {
    "scrolled": true
   },
   "outputs": [
    {
     "data": {
      "text/plain": [
       "{'neg': 0.0, 'neu': 0.853, 'pos': 0.147, 'compound': 0.2263}"
      ]
     },
     "execution_count": 7,
     "metadata": {},
     "output_type": "execute_result"
    }
   ],
   "source": [
    "analyzer = SentimentIntensityAnalyzer()\n",
    "sentiment_scores = analyzer.polarity_scores(twitter_df['text'][0])\n",
    "sentiment_scores"
   ]
  },
  {
   "cell_type": "markdown",
   "metadata": {},
   "source": [
    "**Answer:** \n",
    "The label of the tweet is 'positive', the result of sentiment analyzer states that the tweet is neutral. "
   ]
  },
  {
   "cell_type": "markdown",
   "metadata": {},
   "source": [
    "#### 2.2 Run VADER over each text\n",
    "\n",
    "Now use VADER for all the text data of the Twitter and the Youtube dataframe. Create a new column in the dataframes called `VADER_compound` where you save the `compound` result (look at the output dictonary of the `polarity_scores` method).\n",
    "\n",
    "*Important: Make sure `compound` is a float*"
   ]
  },
  {
   "cell_type": "code",
   "execution_count": 8,
   "metadata": {},
   "outputs": [],
   "source": [
    "# apply sentiment analysis and create 'VADER_compound' column for Twitter DataFrame\n",
    "twitter_df['VADER_compound'] = twitter_df['text'].apply(lambda x: analyzer.polarity_scores(x)['compound'])\n",
    "\n",
    "# apply sentiment analysis and create 'VADER_compound' column for YouTube DataFrame\n",
    "youtube_df['VADER_compound'] = youtube_df['text'].apply(lambda x: analyzer.polarity_scores(x)['compound'])"
   ]
  },
  {
   "cell_type": "code",
   "execution_count": 9,
   "metadata": {},
   "outputs": [
    {
     "data": {
      "text/html": [
       "<div>\n",
       "<style scoped>\n",
       "    .dataframe tbody tr th:only-of-type {\n",
       "        vertical-align: middle;\n",
       "    }\n",
       "\n",
       "    .dataframe tbody tr th {\n",
       "        vertical-align: top;\n",
       "    }\n",
       "\n",
       "    .dataframe thead th {\n",
       "        text-align: right;\n",
       "    }\n",
       "</style>\n",
       "<table border=\"1\" class=\"dataframe\">\n",
       "  <thead>\n",
       "    <tr style=\"text-align: right;\">\n",
       "      <th></th>\n",
       "      <th>label</th>\n",
       "      <th>text</th>\n",
       "      <th>googleScore</th>\n",
       "      <th>VADER_compound</th>\n",
       "    </tr>\n",
       "  </thead>\n",
       "  <tbody>\n",
       "    <tr>\n",
       "      <th>0</th>\n",
       "      <td>Positive</td>\n",
       "      <td>?RT @justinbiebcr: The bigger the better....if...</td>\n",
       "      <td>0.3</td>\n",
       "      <td>0.2263</td>\n",
       "    </tr>\n",
       "    <tr>\n",
       "      <th>1</th>\n",
       "      <td>Positive</td>\n",
       "      <td>Listening to the \"New Age\" station on @Slacker...</td>\n",
       "      <td>0.2</td>\n",
       "      <td>0.0000</td>\n",
       "    </tr>\n",
       "    <tr>\n",
       "      <th>2</th>\n",
       "      <td>Neutral</td>\n",
       "      <td>I favorited a YouTube video -- Drake and Josh ...</td>\n",
       "      <td>0.0</td>\n",
       "      <td>0.4019</td>\n",
       "    </tr>\n",
       "    <tr>\n",
       "      <th>3</th>\n",
       "      <td>Positive</td>\n",
       "      <td>i didnt mean knee high I ment in lengt it goes...</td>\n",
       "      <td>0.8</td>\n",
       "      <td>0.8632</td>\n",
       "    </tr>\n",
       "    <tr>\n",
       "      <th>4</th>\n",
       "      <td>Neutral</td>\n",
       "      <td>I wana see the vid Kyan</td>\n",
       "      <td>0.0</td>\n",
       "      <td>0.0000</td>\n",
       "    </tr>\n",
       "  </tbody>\n",
       "</table>\n",
       "</div>"
      ],
      "text/plain": [
       "      label                                               text  googleScore  \\\n",
       "0  Positive  ?RT @justinbiebcr: The bigger the better....if...          0.3   \n",
       "1  Positive  Listening to the \"New Age\" station on @Slacker...          0.2   \n",
       "2   Neutral  I favorited a YouTube video -- Drake and Josh ...          0.0   \n",
       "3  Positive  i didnt mean knee high I ment in lengt it goes...          0.8   \n",
       "4   Neutral                            I wana see the vid Kyan          0.0   \n",
       "\n",
       "   VADER_compound  \n",
       "0          0.2263  \n",
       "1          0.0000  \n",
       "2          0.4019  \n",
       "3          0.8632  \n",
       "4          0.0000  "
      ]
     },
     "execution_count": 9,
     "metadata": {},
     "output_type": "execute_result"
    }
   ],
   "source": [
    "#check the result \n",
    "twitter_df.head()"
   ]
  },
  {
   "cell_type": "code",
   "execution_count": 10,
   "metadata": {},
   "outputs": [
    {
     "data": {
      "text/html": [
       "<div>\n",
       "<style scoped>\n",
       "    .dataframe tbody tr th:only-of-type {\n",
       "        vertical-align: middle;\n",
       "    }\n",
       "\n",
       "    .dataframe tbody tr th {\n",
       "        vertical-align: top;\n",
       "    }\n",
       "\n",
       "    .dataframe thead th {\n",
       "        text-align: right;\n",
       "    }\n",
       "</style>\n",
       "<table border=\"1\" class=\"dataframe\">\n",
       "  <thead>\n",
       "    <tr style=\"text-align: right;\">\n",
       "      <th></th>\n",
       "      <th>label</th>\n",
       "      <th>text</th>\n",
       "      <th>googleScore</th>\n",
       "      <th>VADER_compound</th>\n",
       "    </tr>\n",
       "  </thead>\n",
       "  <tbody>\n",
       "    <tr>\n",
       "      <th>0</th>\n",
       "      <td>Negative</td>\n",
       "      <td>when the time comes for all to know it will be...</td>\n",
       "      <td>0.1</td>\n",
       "      <td>0.0000</td>\n",
       "    </tr>\n",
       "    <tr>\n",
       "      <th>1</th>\n",
       "      <td>Neutral</td>\n",
       "      <td>@princessofportk The first are a pair of devil...</td>\n",
       "      <td>0.1</td>\n",
       "      <td>-0.1027</td>\n",
       "    </tr>\n",
       "    <tr>\n",
       "      <th>2</th>\n",
       "      <td>Neutral</td>\n",
       "      <td>I gotta feeling they partlishly took it off fo...</td>\n",
       "      <td>-0.3</td>\n",
       "      <td>0.0644</td>\n",
       "    </tr>\n",
       "    <tr>\n",
       "      <th>3</th>\n",
       "      <td>Positive</td>\n",
       "      <td>As we look at ways to be relevant, here is a g...</td>\n",
       "      <td>0.7</td>\n",
       "      <td>0.5719</td>\n",
       "    </tr>\n",
       "    <tr>\n",
       "      <th>4</th>\n",
       "      <td>Neutral</td>\n",
       "      <td>Not a lot of \"removing\" going on here... bucke...</td>\n",
       "      <td>-0.3</td>\n",
       "      <td>0.0000</td>\n",
       "    </tr>\n",
       "  </tbody>\n",
       "</table>\n",
       "</div>"
      ],
      "text/plain": [
       "      label                                               text  googleScore  \\\n",
       "0  Negative  when the time comes for all to know it will be...          0.1   \n",
       "1   Neutral  @princessofportk The first are a pair of devil...          0.1   \n",
       "2   Neutral  I gotta feeling they partlishly took it off fo...         -0.3   \n",
       "3  Positive  As we look at ways to be relevant, here is a g...          0.7   \n",
       "4   Neutral  Not a lot of \"removing\" going on here... bucke...         -0.3   \n",
       "\n",
       "   VADER_compound  \n",
       "0          0.0000  \n",
       "1         -0.1027  \n",
       "2          0.0644  \n",
       "3          0.5719  \n",
       "4          0.0000  "
      ]
     },
     "execution_count": 10,
     "metadata": {},
     "output_type": "execute_result"
    }
   ],
   "source": [
    "youtube_df.head()"
   ]
  },
  {
   "cell_type": "markdown",
   "metadata": {},
   "source": [
    "#### 2.3 VADER as a classifier\n",
    "\n",
    "To get the three Classes `Positive`, `Negative` and `Neutral` we use the compound score with the following thresholds:\n",
    "\n",
    "* `compound > 0.5`: `\"Positive\"`\n",
    "* `compound < -0.5`: `\"Negative\"`\n",
    "* `else`: `\"Neutral\"`\n",
    "\n",
    "Create a new column called `VADER_class` which contains the three computed classes."
   ]
  },
  {
   "cell_type": "code",
   "execution_count": 11,
   "metadata": {},
   "outputs": [],
   "source": [
    "# function to apply sentiment analysis and extract sentiment class\n",
    "def get_sentiment_class(compound_score):\n",
    "    if compound_score > 0.5:\n",
    "        return \"Positive\"\n",
    "    elif compound_score < -0.5:\n",
    "        return \"Negative\"\n",
    "    else:\n",
    "        return \"Neutral\"\n",
    "\n",
    "# create 'VADER_class' column for Twitter DataFrame\n",
    "twitter_df['VADER_class'] = twitter_df['VADER_compound'].apply(get_sentiment_class)\n",
    "\n",
    "# create 'VADER_class' column for YouTube DataFrame\n",
    "youtube_df['VADER_class'] = youtube_df['VADER_compound'].apply(get_sentiment_class)"
   ]
  },
  {
   "cell_type": "code",
   "execution_count": 12,
   "metadata": {
    "scrolled": true
   },
   "outputs": [
    {
     "data": {
      "text/html": [
       "<div>\n",
       "<style scoped>\n",
       "    .dataframe tbody tr th:only-of-type {\n",
       "        vertical-align: middle;\n",
       "    }\n",
       "\n",
       "    .dataframe tbody tr th {\n",
       "        vertical-align: top;\n",
       "    }\n",
       "\n",
       "    .dataframe thead th {\n",
       "        text-align: right;\n",
       "    }\n",
       "</style>\n",
       "<table border=\"1\" class=\"dataframe\">\n",
       "  <thead>\n",
       "    <tr style=\"text-align: right;\">\n",
       "      <th></th>\n",
       "      <th>label</th>\n",
       "      <th>text</th>\n",
       "      <th>googleScore</th>\n",
       "      <th>VADER_compound</th>\n",
       "      <th>VADER_class</th>\n",
       "    </tr>\n",
       "  </thead>\n",
       "  <tbody>\n",
       "    <tr>\n",
       "      <th>0</th>\n",
       "      <td>Positive</td>\n",
       "      <td>?RT @justinbiebcr: The bigger the better....if...</td>\n",
       "      <td>0.3</td>\n",
       "      <td>0.2263</td>\n",
       "      <td>Neutral</td>\n",
       "    </tr>\n",
       "    <tr>\n",
       "      <th>1</th>\n",
       "      <td>Positive</td>\n",
       "      <td>Listening to the \"New Age\" station on @Slacker...</td>\n",
       "      <td>0.2</td>\n",
       "      <td>0.0000</td>\n",
       "      <td>Neutral</td>\n",
       "    </tr>\n",
       "    <tr>\n",
       "      <th>2</th>\n",
       "      <td>Neutral</td>\n",
       "      <td>I favorited a YouTube video -- Drake and Josh ...</td>\n",
       "      <td>0.0</td>\n",
       "      <td>0.4019</td>\n",
       "      <td>Neutral</td>\n",
       "    </tr>\n",
       "    <tr>\n",
       "      <th>3</th>\n",
       "      <td>Positive</td>\n",
       "      <td>i didnt mean knee high I ment in lengt it goes...</td>\n",
       "      <td>0.8</td>\n",
       "      <td>0.8632</td>\n",
       "      <td>Positive</td>\n",
       "    </tr>\n",
       "    <tr>\n",
       "      <th>4</th>\n",
       "      <td>Neutral</td>\n",
       "      <td>I wana see the vid Kyan</td>\n",
       "      <td>0.0</td>\n",
       "      <td>0.0000</td>\n",
       "      <td>Neutral</td>\n",
       "    </tr>\n",
       "  </tbody>\n",
       "</table>\n",
       "</div>"
      ],
      "text/plain": [
       "      label                                               text  googleScore  \\\n",
       "0  Positive  ?RT @justinbiebcr: The bigger the better....if...          0.3   \n",
       "1  Positive  Listening to the \"New Age\" station on @Slacker...          0.2   \n",
       "2   Neutral  I favorited a YouTube video -- Drake and Josh ...          0.0   \n",
       "3  Positive  i didnt mean knee high I ment in lengt it goes...          0.8   \n",
       "4   Neutral                            I wana see the vid Kyan          0.0   \n",
       "\n",
       "   VADER_compound VADER_class  \n",
       "0          0.2263     Neutral  \n",
       "1          0.0000     Neutral  \n",
       "2          0.4019     Neutral  \n",
       "3          0.8632    Positive  \n",
       "4          0.0000     Neutral  "
      ]
     },
     "execution_count": 12,
     "metadata": {},
     "output_type": "execute_result"
    }
   ],
   "source": [
    "#check result \n",
    "twitter_df.head()"
   ]
  },
  {
   "cell_type": "code",
   "execution_count": 13,
   "metadata": {},
   "outputs": [
    {
     "data": {
      "text/html": [
       "<div>\n",
       "<style scoped>\n",
       "    .dataframe tbody tr th:only-of-type {\n",
       "        vertical-align: middle;\n",
       "    }\n",
       "\n",
       "    .dataframe tbody tr th {\n",
       "        vertical-align: top;\n",
       "    }\n",
       "\n",
       "    .dataframe thead th {\n",
       "        text-align: right;\n",
       "    }\n",
       "</style>\n",
       "<table border=\"1\" class=\"dataframe\">\n",
       "  <thead>\n",
       "    <tr style=\"text-align: right;\">\n",
       "      <th></th>\n",
       "      <th>label</th>\n",
       "      <th>text</th>\n",
       "      <th>googleScore</th>\n",
       "      <th>VADER_compound</th>\n",
       "      <th>VADER_class</th>\n",
       "    </tr>\n",
       "  </thead>\n",
       "  <tbody>\n",
       "    <tr>\n",
       "      <th>0</th>\n",
       "      <td>Negative</td>\n",
       "      <td>when the time comes for all to know it will be...</td>\n",
       "      <td>0.1</td>\n",
       "      <td>0.0000</td>\n",
       "      <td>Neutral</td>\n",
       "    </tr>\n",
       "    <tr>\n",
       "      <th>1</th>\n",
       "      <td>Neutral</td>\n",
       "      <td>@princessofportk The first are a pair of devil...</td>\n",
       "      <td>0.1</td>\n",
       "      <td>-0.1027</td>\n",
       "      <td>Neutral</td>\n",
       "    </tr>\n",
       "    <tr>\n",
       "      <th>2</th>\n",
       "      <td>Neutral</td>\n",
       "      <td>I gotta feeling they partlishly took it off fo...</td>\n",
       "      <td>-0.3</td>\n",
       "      <td>0.0644</td>\n",
       "      <td>Neutral</td>\n",
       "    </tr>\n",
       "    <tr>\n",
       "      <th>3</th>\n",
       "      <td>Positive</td>\n",
       "      <td>As we look at ways to be relevant, here is a g...</td>\n",
       "      <td>0.7</td>\n",
       "      <td>0.5719</td>\n",
       "      <td>Positive</td>\n",
       "    </tr>\n",
       "    <tr>\n",
       "      <th>4</th>\n",
       "      <td>Neutral</td>\n",
       "      <td>Not a lot of \"removing\" going on here... bucke...</td>\n",
       "      <td>-0.3</td>\n",
       "      <td>0.0000</td>\n",
       "      <td>Neutral</td>\n",
       "    </tr>\n",
       "  </tbody>\n",
       "</table>\n",
       "</div>"
      ],
      "text/plain": [
       "      label                                               text  googleScore  \\\n",
       "0  Negative  when the time comes for all to know it will be...          0.1   \n",
       "1   Neutral  @princessofportk The first are a pair of devil...          0.1   \n",
       "2   Neutral  I gotta feeling they partlishly took it off fo...         -0.3   \n",
       "3  Positive  As we look at ways to be relevant, here is a g...          0.7   \n",
       "4   Neutral  Not a lot of \"removing\" going on here... bucke...         -0.3   \n",
       "\n",
       "   VADER_compound VADER_class  \n",
       "0          0.0000     Neutral  \n",
       "1         -0.1027     Neutral  \n",
       "2          0.0644     Neutral  \n",
       "3          0.5719    Positive  \n",
       "4          0.0000     Neutral  "
      ]
     },
     "execution_count": 13,
     "metadata": {},
     "output_type": "execute_result"
    }
   ],
   "source": [
    "youtube_df.head()"
   ]
  },
  {
   "cell_type": "markdown",
   "metadata": {},
   "source": [
    "### Exercise 3: Use a BERT based model for sentiment analysis *(2 points)*\n",
    "\n",
    "#### 3.1 BERT\n",
    "BERT (Bidirectional Encoder Representation from Transformers) is a machine learning technique for natural language processing. There are already pretrained models available in the `transformers` package. You can look [here](https://huggingface.co/models?sort=downloads&search=sentiment) and choose a model for the next tasks. (We suggest [this](https://huggingface.co/cardiffnlp/twitter-roberta-base-sentiment-latest) (`\"cardiffnlp/twitter-roberta-base-sentiment-latest\"`) model, but you can use any available, just make sure it is suitable for sentiment analysis).\n",
    "\n",
    "First create a `pipeline` where you set your model by the `model` keyword argument. You can then use this method to pass text which should be classified. [Here](https://huggingface.co/blog/sentiment-analysis-python#2-how-to-use-pre-trained-sentiment-analysis-models-with-python) is a tutorial how to use this.\n",
    "\n",
    "As before save the classes in a new column 'BERT_class'. The call to your pipeline returns a dictionary where there is a key `label` which contains already the `positive`, `negative` or `neutral` class (Be aware that this is based on the model you choose, and might be different from the labels in the dataset. If that's the case you have to rename them to match the target labels).\n",
    "\n",
    "***Hint: The classification of the entire sample can take a couple of minutes. Make sure to save the labeled dataset in a csv file so that you don't need to rerun the classification the next time you run your notebook.***"
   ]
  },
  {
   "cell_type": "code",
   "execution_count": 14,
   "metadata": {},
   "outputs": [
    {
     "data": {
      "application/vnd.jupyter.widget-view+json": {
       "model_id": "b4976813ff0043e69f7a3b7d3404ff63",
       "version_major": 2,
       "version_minor": 0
      },
      "text/plain": [
       "Downloading: 0.00B [00:00, ?B/s]"
      ]
     },
     "metadata": {},
     "output_type": "display_data"
    },
    {
     "name": "stderr",
     "output_type": "stream",
     "text": [
      "Some weights of the model checkpoint at cardiffnlp/twitter-roberta-base-sentiment-latest were not used when initializing RobertaForSequenceClassification: ['roberta.pooler.dense.bias', 'roberta.pooler.dense.weight']\n",
      "- This IS expected if you are initializing RobertaForSequenceClassification from the checkpoint of a model trained on another task or with another architecture (e.g. initializing a BertForSequenceClassification model from a BertForPreTraining model).\n",
      "- This IS NOT expected if you are initializing RobertaForSequenceClassification from the checkpoint of a model that you expect to be exactly identical (initializing a BertForSequenceClassification model from a BertForSequenceClassification model).\n"
     ]
    }
   ],
   "source": [
    "# Hint -> loading roberta as a pipline\n",
    "sentiment_pipeline = pipeline(model=\"cardiffnlp/twitter-roberta-base-sentiment-latest\", tokenizer=\"cardiffnlp/twitter-roberta-base-sentiment-latest\")"
   ]
  },
  {
   "cell_type": "code",
   "execution_count": 15,
   "metadata": {},
   "outputs": [
    {
     "data": {
      "text/plain": [
       "[{'label': 'positive', 'score': 0.9866099953651428}]"
      ]
     },
     "execution_count": 15,
     "metadata": {},
     "output_type": "execute_result"
    }
   ],
   "source": [
    "# Hint -> using a pipline for classification\n",
    "sentiment_pipeline('Today is a great day!')"
   ]
  },
  {
   "cell_type": "code",
   "execution_count": 16,
   "metadata": {},
   "outputs": [],
   "source": [
    "# apply sentiment classification and create 'BERT_class' column for Twitter DataFrame\n",
    "twitter_df['BERT_class'] = twitter_df['text'].apply(lambda x: sentiment_pipeline(x)[0]['label'])\n",
    "\n",
    "# apply sentiment classification and create 'BERT_class' column for YouTube DataFrame\n",
    "youtube_df['BERT_class'] = youtube_df['text'].apply(lambda x: sentiment_pipeline(x)[0]['label'])"
   ]
  },
  {
   "cell_type": "code",
   "execution_count": 17,
   "metadata": {},
   "outputs": [],
   "source": [
    "#save result \n",
    "twitter_df.to_csv('twitter_labeled.csv')\n",
    "youtube_df.to_csv('youtube_labeled.csv')"
   ]
  },
  {
   "cell_type": "code",
   "execution_count": 18,
   "metadata": {},
   "outputs": [],
   "source": [
    "twitter_df = pd.read_csv('twitter_labeled.csv')\n",
    "youtube_df = pd.read_csv('youtube_labeled.csv')"
   ]
  },
  {
   "cell_type": "markdown",
   "metadata": {},
   "source": [
    "### Exercise 4: Evaluate against sentiment annotations and compare with Google NLP *(4 points)*\n",
    "\n",
    "#### 4.1 Convert GoogleNLP scores to classes\n",
    "\n",
    "As with VADER and BERT, compute classes from the GoogleNLP score, which is given in the column `googleScore`. For this use following thresholds:\n",
    "\n",
    "* `googleScore > 0.3`: `\"Positive\"`\n",
    "* `googleScore < -0.3`: `\"Negative\"`\n",
    "* `else`: `\"Neutral\"`\n",
    "\n",
    "Save the classes in a new column named `GoogleNLP_class`.\n"
   ]
  },
  {
   "cell_type": "code",
   "execution_count": 19,
   "metadata": {},
   "outputs": [],
   "source": [
    "# function to extract googleScore sentiment class \n",
    "def get_google_sentiment_class(score):\n",
    "    if score > 0.3:\n",
    "        return \"Positive\"\n",
    "    elif score < -0.3:\n",
    "        return \"Negative\"\n",
    "    else:\n",
    "        return \"Neutral\"\n",
    "    \n",
    "twitter_df['Google_class'] = twitter_df['googleScore'].apply(get_google_sentiment_class)\n",
    "youtube_df['Google_class'] = youtube_df['googleScore'].apply(get_google_sentiment_class)"
   ]
  },
  {
   "cell_type": "code",
   "execution_count": 20,
   "metadata": {},
   "outputs": [
    {
     "data": {
      "text/html": [
       "<div>\n",
       "<style scoped>\n",
       "    .dataframe tbody tr th:only-of-type {\n",
       "        vertical-align: middle;\n",
       "    }\n",
       "\n",
       "    .dataframe tbody tr th {\n",
       "        vertical-align: top;\n",
       "    }\n",
       "\n",
       "    .dataframe thead th {\n",
       "        text-align: right;\n",
       "    }\n",
       "</style>\n",
       "<table border=\"1\" class=\"dataframe\">\n",
       "  <thead>\n",
       "    <tr style=\"text-align: right;\">\n",
       "      <th></th>\n",
       "      <th>Unnamed: 0</th>\n",
       "      <th>label</th>\n",
       "      <th>text</th>\n",
       "      <th>googleScore</th>\n",
       "      <th>VADER_compound</th>\n",
       "      <th>VADER_class</th>\n",
       "      <th>BERT_class</th>\n",
       "      <th>Google_class</th>\n",
       "    </tr>\n",
       "  </thead>\n",
       "  <tbody>\n",
       "    <tr>\n",
       "      <th>0</th>\n",
       "      <td>0</td>\n",
       "      <td>Positive</td>\n",
       "      <td>?RT @justinbiebcr: The bigger the better....if...</td>\n",
       "      <td>0.3</td>\n",
       "      <td>0.2263</td>\n",
       "      <td>Neutral</td>\n",
       "      <td>positive</td>\n",
       "      <td>Neutral</td>\n",
       "    </tr>\n",
       "    <tr>\n",
       "      <th>1</th>\n",
       "      <td>1</td>\n",
       "      <td>Positive</td>\n",
       "      <td>Listening to the \"New Age\" station on @Slacker...</td>\n",
       "      <td>0.2</td>\n",
       "      <td>0.0000</td>\n",
       "      <td>Neutral</td>\n",
       "      <td>neutral</td>\n",
       "      <td>Neutral</td>\n",
       "    </tr>\n",
       "    <tr>\n",
       "      <th>2</th>\n",
       "      <td>2</td>\n",
       "      <td>Neutral</td>\n",
       "      <td>I favorited a YouTube video -- Drake and Josh ...</td>\n",
       "      <td>0.0</td>\n",
       "      <td>0.4019</td>\n",
       "      <td>Neutral</td>\n",
       "      <td>positive</td>\n",
       "      <td>Neutral</td>\n",
       "    </tr>\n",
       "    <tr>\n",
       "      <th>3</th>\n",
       "      <td>3</td>\n",
       "      <td>Positive</td>\n",
       "      <td>i didnt mean knee high I ment in lengt it goes...</td>\n",
       "      <td>0.8</td>\n",
       "      <td>0.8632</td>\n",
       "      <td>Positive</td>\n",
       "      <td>positive</td>\n",
       "      <td>Positive</td>\n",
       "    </tr>\n",
       "    <tr>\n",
       "      <th>4</th>\n",
       "      <td>4</td>\n",
       "      <td>Neutral</td>\n",
       "      <td>I wana see the vid Kyan</td>\n",
       "      <td>0.0</td>\n",
       "      <td>0.0000</td>\n",
       "      <td>Neutral</td>\n",
       "      <td>neutral</td>\n",
       "      <td>Neutral</td>\n",
       "    </tr>\n",
       "  </tbody>\n",
       "</table>\n",
       "</div>"
      ],
      "text/plain": [
       "   Unnamed: 0     label                                               text  \\\n",
       "0           0  Positive  ?RT @justinbiebcr: The bigger the better....if...   \n",
       "1           1  Positive  Listening to the \"New Age\" station on @Slacker...   \n",
       "2           2   Neutral  I favorited a YouTube video -- Drake and Josh ...   \n",
       "3           3  Positive  i didnt mean knee high I ment in lengt it goes...   \n",
       "4           4   Neutral                            I wana see the vid Kyan   \n",
       "\n",
       "   googleScore  VADER_compound VADER_class BERT_class Google_class  \n",
       "0          0.3          0.2263     Neutral   positive      Neutral  \n",
       "1          0.2          0.0000     Neutral    neutral      Neutral  \n",
       "2          0.0          0.4019     Neutral   positive      Neutral  \n",
       "3          0.8          0.8632    Positive   positive     Positive  \n",
       "4          0.0          0.0000     Neutral    neutral      Neutral  "
      ]
     },
     "execution_count": 20,
     "metadata": {},
     "output_type": "execute_result"
    }
   ],
   "source": [
    "#check \n",
    "twitter_df.head()"
   ]
  },
  {
   "cell_type": "markdown",
   "metadata": {},
   "source": [
    "#### 4.2 Evaluate on Twitter\n",
    "\n",
    "First, let's calculate the accuracy for all three classifiers on the Twitter and Youtube data, print the results."
   ]
  },
  {
   "cell_type": "code",
   "execution_count": 21,
   "metadata": {},
   "outputs": [],
   "source": [
    "# convert the first letter to capital in the 'text' column\n",
    "twitter_df['BERT_class'] = twitter_df['BERT_class'].str.capitalize()\n",
    "youtube_df['BERT_class'] = youtube_df['BERT_class'].str.capitalize()"
   ]
  },
  {
   "cell_type": "code",
   "execution_count": 22,
   "metadata": {},
   "outputs": [],
   "source": [
    "#function to calculate accuracy\n",
    "def accuracy(df, class_column):\n",
    "    score = round(len(df[df['label'] == df[class_column]])/len(df), 2)\n",
    "    return score "
   ]
  },
  {
   "cell_type": "code",
   "execution_count": 23,
   "metadata": {
    "scrolled": true
   },
   "outputs": [
    {
     "name": "stdout",
     "output_type": "stream",
     "text": [
      "The accuracy of Vader classifier for Twitter data: 0.69\n",
      "The accuracy of Bert classifier for Twitter data: 0.63\n",
      "The accuracy of Google classifier for Twitter data: 0.67\n"
     ]
    }
   ],
   "source": [
    "# get result for Twitter data\n",
    "twitter_vader_acc = accuracy(twitter_df, 'VADER_class')\n",
    "print (f'The accuracy of Vader classifier for Twitter data:', twitter_vader_acc)\n",
    "\n",
    "twitter_bert_acc = accuracy(twitter_df, 'BERT_class')\n",
    "print (f'The accuracy of Bert classifier for Twitter data:', twitter_bert_acc)\n",
    "\n",
    "twitter_google_acc =accuracy(twitter_df, 'Google_class')\n",
    "print (f'The accuracy of Google classifier for Twitter data:', twitter_google_acc)"
   ]
  },
  {
   "cell_type": "code",
   "execution_count": 24,
   "metadata": {},
   "outputs": [
    {
     "name": "stdout",
     "output_type": "stream",
     "text": [
      "The accuracy of Vader classifier for Youtube data: 0.66\n",
      "The accuracy of BERT classifier for Youtube data: 0.74\n",
      "The accuracy of Google classifier for Youtube data: 0.66\n"
     ]
    }
   ],
   "source": [
    "# accuracy score for Youtube data\n",
    "youtube_vader_acc = accuracy(youtube_df, 'VADER_class')\n",
    "print (f'The accuracy of Vader classifier for Youtube data:', youtube_vader_acc)\n",
    "\n",
    "youtube_bert_acc = accuracy(youtube_df, 'BERT_class')\n",
    "print (f'The accuracy of BERT classifier for Youtube data:', youtube_bert_acc)\n",
    "\n",
    "youtube_google_acc = accuracy(youtube_df, 'Google_class')\n",
    "print (f'The accuracy of Google classifier for Youtube data:', youtube_google_acc)"
   ]
  },
  {
   "cell_type": "markdown",
   "metadata": {},
   "source": [
    "Next calculate the precision of the `\"Positive\"` class for the Twitter and Youtube data.\n",
    "This is calculated as follows:\n",
    "$\n",
    "\\begin{align}\n",
    "    precision = \\frac{TP}{TP + FP}\n",
    "\\end{align}\n",
    "$\n",
    "*Note: Here the Positive samples are the one with the class `\"Positive\"`*"
   ]
  },
  {
   "cell_type": "code",
   "execution_count": 25,
   "metadata": {},
   "outputs": [],
   "source": [
    "# function to calculate precision\n",
    "def precision(df, class_column, label_class):\n",
    "    true_positive = df[(df['label'] == label_class) & (df[class_column] == label_class)]\n",
    "    true_and_false_positive = df[df[class_column] == label_class]\n",
    "    precision = round(len(true_positive)/len(true_and_false_positive), 2) \n",
    "    return precision"
   ]
  },
  {
   "cell_type": "code",
   "execution_count": 26,
   "metadata": {},
   "outputs": [
    {
     "name": "stdout",
     "output_type": "stream",
     "text": [
      "The precision score of Vader Positive class for Twitter data: 0.36\n",
      "The precision score of BERT Positive class for Twitter data: 0.36\n",
      "The precision score of Google Positive class for Twitter data: 0.34\n"
     ]
    }
   ],
   "source": [
    "#precision for the \"Positive\" class for Twitter data \n",
    "twitter_vader_pre = precision(twitter_df, 'VADER_class', 'Positive')\n",
    "print(f'The precision score of Vader Positive class for Twitter data:', twitter_vader_pre)\n",
    "\n",
    "twitter_bert_pre = precision(twitter_df, 'BERT_class', 'Positive')\n",
    "print(f'The precision score of BERT Positive class for Twitter data:', twitter_bert_pre)\n",
    "\n",
    "twitter_google_pre = precision(twitter_df, 'Google_class', 'Positive')\n",
    "print(f'The precision score of Google Positive class for Twitter data:', twitter_google_pre)"
   ]
  },
  {
   "cell_type": "code",
   "execution_count": 27,
   "metadata": {},
   "outputs": [
    {
     "name": "stdout",
     "output_type": "stream",
     "text": [
      "The precision score of Vader Positive class for Youtube data: 0.72\n",
      "The precision score of BERT Positive class for Youtube data: 0.76\n",
      "The precision score of Google Positive class for Youtube data: 0.77\n"
     ]
    }
   ],
   "source": [
    "# сalculate precision for the \"Positive\" class for Youtube data \n",
    "youtube_vader_pre = precision(youtube_df, 'VADER_class', 'Positive')\n",
    "print(f'The precision score of Vader Positive class for Youtube data:', youtube_vader_pre)\n",
    "\n",
    "youtube_bert_pre = precision(youtube_df, 'BERT_class', 'Positive')\n",
    "print(f'The precision score of BERT Positive class for Youtube data:', youtube_bert_pre)\n",
    "\n",
    "youtube_google_pre = precision(youtube_df, 'Google_class', 'Positive')\n",
    "print(f'The precision score of Google Positive class for Youtube data:', youtube_google_pre)"
   ]
  },
  {
   "cell_type": "markdown",
   "metadata": {},
   "source": [
    "Now calculate the recall score. This is done by:\n",
    "$\n",
    "\\begin{align}\n",
    "    recall = \\frac{TP}{TP + FN}\n",
    "\\end{align}\n",
    "$\n",
    "*Note: Here the Positive samples are the one with the the class `\"Positive\"`*"
   ]
  },
  {
   "cell_type": "code",
   "execution_count": 28,
   "metadata": {},
   "outputs": [],
   "source": [
    "# function to calculate recall \n",
    "def recall(df, class_column, label_class):\n",
    "    true_positive_and_false_negative = df[df['label'] == label_class]\n",
    "    true_positive = df[(df['label'] == label_class) & (df[class_column] == label_class)]\n",
    "    recall = round(len(true_positive)/len(true_positive_and_false_negative), 2) \n",
    "    return recall"
   ]
  },
  {
   "cell_type": "code",
   "execution_count": 29,
   "metadata": {
    "scrolled": true
   },
   "outputs": [
    {
     "name": "stdout",
     "output_type": "stream",
     "text": [
      "The recall score of Vader Positive class for Twitter data: 0.73\n",
      "The recall score of BERT Positive class for Twitter data: 0.91\n",
      "The recall score of Google Positive class for Twitter data: 0.56\n"
     ]
    }
   ],
   "source": [
    "# Calculate recall for the \"Positive\" class for Twitter data \n",
    "twitter_vader_rec = recall(twitter_df, 'VADER_class', 'Positive')\n",
    "print(f'The recall score of Vader Positive class for Twitter data:', twitter_vader_rec)\n",
    "\n",
    "twitter_bert_rec = recall(twitter_df, 'BERT_class', 'Positive')\n",
    "print(f'The recall score of BERT Positive class for Twitter data:', twitter_bert_rec)\n",
    "\n",
    "twitter_google_rec = recall(twitter_df, 'Google_class', 'Positive')\n",
    "print(f'The recall score of Google Positive class for Twitter data:', twitter_google_rec)"
   ]
  },
  {
   "cell_type": "code",
   "execution_count": 30,
   "metadata": {},
   "outputs": [
    {
     "name": "stdout",
     "output_type": "stream",
     "text": [
      "The recall score of Vader Positive class for Youtube data: 0.69\n",
      "The recall score of BERT Positive class for Youtube data: 0.92\n",
      "The recall score of Google Positive class for Youtube data: 0.7\n"
     ]
    }
   ],
   "source": [
    "# Calculate recall for the \"Positive\" class for Youtube data \n",
    "youtube_vader_rec = recall(youtube_df, 'VADER_class', 'Positive')\n",
    "print(f'The recall score of Vader Positive class for Youtube data:', youtube_vader_rec)\n",
    "\n",
    "youtube_bert_rec = recall(youtube_df, 'BERT_class', 'Positive')\n",
    "print(f'The recall score of BERT Positive class for Youtube data:', youtube_bert_rec)\n",
    "\n",
    "youtube_google_rec = recall(youtube_df, 'Google_class', 'Positive')\n",
    "print(f'The recall score of Google Positive class for Youtube data:', youtube_google_rec)"
   ]
  },
  {
   "cell_type": "markdown",
   "metadata": {},
   "source": [
    "Calculate the Recall and the Precision score now also for the negative class. The Precision is calculated as:\n",
    "$\n",
    "\\begin{align}\n",
    "    precision = \\frac{TP}{TP + FP}\n",
    "\\end{align}\n",
    "$\n",
    "*Note: Here the Positive samples are the one with the the class `\"Negative\"`*\n",
    "\n",
    "And the Recall is calculated as:\n",
    "$\n",
    "\\begin{align}\n",
    "    recall = \\frac{TP}{TP + FN}\n",
    "\\end{align}\n",
    "$\n",
    "*Note: Here the Positive samples are the one with the the class `\"Negative\"`*"
   ]
  },
  {
   "cell_type": "code",
   "execution_count": 31,
   "metadata": {},
   "outputs": [
    {
     "name": "stdout",
     "output_type": "stream",
     "text": [
      "The precision score of Vader Negative class for Twitter data: 0.4\n",
      "The precision score of BERT Negative class for Twitter data: 0.38\n",
      "The precision score of Google Negative class for Twitter data: 0.34\n"
     ]
    }
   ],
   "source": [
    "# Calculate precision for the 'Negative' class for Twitter data \n",
    "\n",
    "twitter_vader_pre_neg = precision(twitter_df, 'VADER_class', 'Negative')\n",
    "print(f'The precision score of Vader Negative class for Twitter data:', twitter_vader_pre_neg)\n",
    "\n",
    "twitter_bert_pre_neg = precision(twitter_df, 'BERT_class', 'Negative')\n",
    "print(f'The precision score of BERT Negative class for Twitter data:', twitter_bert_pre_neg)\n",
    "\n",
    "twitter_google_pre_neg = precision(twitter_df, 'Google_class', 'Negative')\n",
    "print(f'The precision score of Google Negative class for Twitter data:', twitter_google_pre_neg)"
   ]
  },
  {
   "cell_type": "code",
   "execution_count": 32,
   "metadata": {},
   "outputs": [
    {
     "name": "stdout",
     "output_type": "stream",
     "text": [
      "The precision score of Vader Negative class for Youtube data: 0.61\n",
      "The precision score of BERT Negative class for Youtube data: 0.57\n",
      "The precision score of Google Negative class for Youtube data: 0.57\n"
     ]
    }
   ],
   "source": [
    "# Calculate precision for the 'Negative' class for Youtube data \n",
    "youtube_vader_pre_neg = precision(youtube_df, 'VADER_class', 'Negative')\n",
    "print(f'The precision score of Vader Negative class for Youtube data:', youtube_vader_pre_neg)\n",
    "\n",
    "youtube_bert_pre_neg = precision(youtube_df, 'BERT_class', 'Negative')\n",
    "print(f'The precision score of BERT Negative class for Youtube data:', youtube_bert_pre_neg)\n",
    "\n",
    "youtube_google_pre_neg = precision(youtube_df, 'Google_class', 'Negative')\n",
    "print(f'The precision score of Google Negative class for Youtube data:', youtube_google_pre_neg)"
   ]
  },
  {
   "cell_type": "code",
   "execution_count": 33,
   "metadata": {},
   "outputs": [
    {
     "name": "stdout",
     "output_type": "stream",
     "text": [
      "The recall score of Vader Negative class for Twitter data: 0.36\n",
      "The recall score of BERT Negative class for Twitter data: 0.82\n",
      "The recall score of Google Negative class for Twitter data: 0.34\n"
     ]
    }
   ],
   "source": [
    "# Calculate recall for the 'Negative' class for Twitter data \n",
    "twitter_vader_rec_neg = recall(twitter_df, 'VADER_class', 'Negative')\n",
    "print(f'The recall score of Vader Negative class for Twitter data:', twitter_vader_rec_neg)\n",
    "\n",
    "twitter_bert_rec_neg = recall(twitter_df, 'BERT_class', 'Negative')\n",
    "print(f'The recall score of BERT Negative class for Twitter data:', twitter_bert_rec_neg)\n",
    "\n",
    "twitter_google_rec_neg = recall(twitter_df, 'Google_class', 'Negative')\n",
    "print(f'The recall score of Google Negative class for Twitter data:', twitter_google_rec_neg)"
   ]
  },
  {
   "cell_type": "code",
   "execution_count": 34,
   "metadata": {},
   "outputs": [
    {
     "name": "stdout",
     "output_type": "stream",
     "text": [
      "The recall score of Vader Negative class for Youtube data: 0.36\n",
      "The recall score of BERT Negative class for Youtube data: 0.81\n",
      "The recall score of Google Negative class for Youtube data: 0.4\n"
     ]
    }
   ],
   "source": [
    "# Calculate recall for the 'Negative' class for Youtube data \n",
    "youtube_vader_rec_neg = recall(youtube_df, 'VADER_class', 'Negative')\n",
    "print(f'The recall score of Vader Negative class for Youtube data:', youtube_vader_rec_neg)\n",
    "\n",
    "youtube_bert_rec_neg = recall(youtube_df, 'BERT_class', 'Negative')\n",
    "print(f'The recall score of BERT Negative class for Youtube data:', youtube_bert_rec_neg)\n",
    "\n",
    "youtube_google_rec_neg = recall(youtube_df, 'Google_class', 'Negative')\n",
    "print(f'The recall score of Google Negative class for Youtube data:', youtube_google_rec_neg)"
   ]
  },
  {
   "cell_type": "markdown",
   "metadata": {},
   "source": [
    "Last, calculate the [F1 score](https://towardsdatascience.com/the-f1-score-bec2bbc38aa6) of the positive and negative class for each classifier and dataset. The F1 score is calculated as:\n",
    "\n",
    "$\n",
    "\\begin{align}\n",
    "    F_1 = 2 * \\frac{precision * recall}{precision + recall}\n",
    "\\end{align}\n",
    "$"
   ]
  },
  {
   "cell_type": "code",
   "execution_count": 35,
   "metadata": {},
   "outputs": [],
   "source": [
    "def f1(precision, recall):\n",
    "    score = 2 * precision * recall / (precision + recall)\n",
    "    return round(score, 2)"
   ]
  },
  {
   "cell_type": "code",
   "execution_count": 36,
   "metadata": {},
   "outputs": [
    {
     "name": "stdout",
     "output_type": "stream",
     "text": [
      "The f1 score of Vader classifier Positive class for Twitter data: 0.48\n",
      "The f1 score of Bert classifier Positive class for Twitter data: 0.52\n",
      "The f1 score of Google classifier Positive class for Twitter data: 0.42\n"
     ]
    }
   ],
   "source": [
    "# Calculate F1 score for the \"Positive\" class for Twitter data \n",
    "twitter_vader_f1_pos = f1(twitter_vader_pre, twitter_vader_rec)\n",
    "print(f'The f1 score of Vader classifier Positive class for Twitter data:', twitter_vader_f1_pos)\n",
    "\n",
    "twitter_bert_f1_pos = f1(twitter_bert_pre, twitter_bert_rec)\n",
    "print(f'The f1 score of Bert classifier Positive class for Twitter data:', twitter_bert_f1_pos)\n",
    "\n",
    "twitter_google_f1_pos = f1(twitter_google_pre, twitter_google_rec)\n",
    "print(f'The f1 score of Google classifier Positive class for Twitter data:', twitter_google_f1_pos)"
   ]
  },
  {
   "cell_type": "code",
   "execution_count": 37,
   "metadata": {},
   "outputs": [
    {
     "name": "stdout",
     "output_type": "stream",
     "text": [
      "The f1 score of Vader classifier Positive class for youtube data: 0.7\n",
      "The f1 score of Bert classifier Positive class for youtube data: 0.83\n",
      "The f1 score of Google classifier Positive class for youtube data: 0.73\n"
     ]
    }
   ],
   "source": [
    "# Calculate F1 score for the \"Positive\" class for Youtube data \n",
    "youtube_vader_f1_pos = f1(youtube_vader_pre, youtube_vader_rec)\n",
    "print(f'The f1 score of Vader classifier Positive class for youtube data:', youtube_vader_f1_pos)\n",
    "\n",
    "youtube_bert_f1_pos = f1(youtube_bert_pre, youtube_bert_rec)\n",
    "print(f'The f1 score of Bert classifier Positive class for youtube data:', youtube_bert_f1_pos)\n",
    "\n",
    "youtube_google_f1_pos = f1(youtube_google_pre, youtube_google_rec)\n",
    "print(f'The f1 score of Google classifier Positive class for youtube data:', youtube_google_f1_pos)"
   ]
  },
  {
   "cell_type": "code",
   "execution_count": 38,
   "metadata": {},
   "outputs": [
    {
     "name": "stdout",
     "output_type": "stream",
     "text": [
      "The f1 score of Vader classifier Positive class for Twitter data: 0.38\n",
      "The f1 score of Bert classifier Positive class for Twitter data: 0.52\n",
      "The f1 score of Google classifier Positive class for Twitter data: 0.34\n"
     ]
    }
   ],
   "source": [
    "# Calculate F1 score for the \"Negative\" class for Twitter data \n",
    "twitter_vader_f1_neg = f1(twitter_vader_pre_neg, twitter_vader_rec_neg)\n",
    "print(f'The f1 score of Vader classifier Positive class for Twitter data:', twitter_vader_f1_neg)\n",
    "\n",
    "twitter_bert_f1_neg = f1(twitter_bert_pre_neg, twitter_bert_rec_neg)\n",
    "print(f'The f1 score of Bert classifier Positive class for Twitter data:', twitter_bert_f1_pos)\n",
    "\n",
    "twitter_google_f1_neg = f1(twitter_google_pre_neg, twitter_google_rec_neg)\n",
    "print(f'The f1 score of Google classifier Positive class for Twitter data:', twitter_google_f1_neg)"
   ]
  },
  {
   "cell_type": "code",
   "execution_count": 39,
   "metadata": {},
   "outputs": [
    {
     "name": "stdout",
     "output_type": "stream",
     "text": [
      "The f1 score of Vader classifier Positive class for youtube data: 0.45\n",
      "The f1 score of Bert classifier Positive class for youtube data: 0.67\n",
      "The f1 score of Google classifier Positive class for youtube data: 0.47\n"
     ]
    }
   ],
   "source": [
    "# Calculate F1 score for the \"Negative\" class for Youtube data \n",
    "youtube_vader_f1_neg = f1(youtube_vader_pre_neg, youtube_vader_rec_neg)\n",
    "print(f'The f1 score of Vader classifier Positive class for youtube data:', youtube_vader_f1_neg)\n",
    "\n",
    "youtube_bert_f1_neg = f1(youtube_bert_pre_neg, youtube_bert_rec_neg)\n",
    "print(f'The f1 score of Bert classifier Positive class for youtube data:', youtube_bert_f1_neg)\n",
    "\n",
    "youtube_google_f1_neg = f1(youtube_google_pre_neg, youtube_google_rec_neg)\n",
    "print(f'The f1 score of Google classifier Positive class for youtube data:', youtube_google_f1_neg)"
   ]
  },
  {
   "cell_type": "markdown",
   "metadata": {},
   "source": [
    "### Exercise 5: Comparison *(2 points)*\n",
    "* What was the best performing method for Youtube? Did that fit your expectations?\n",
    "* What was the best performing method for Twitter? Did that fit your expectations?\n",
    "* Do you observe any differences between prediction of positive and negative sentiment? What is the role of the imbalance between postive and negative classes in the calculation of accuracy?\n"
   ]
  },
  {
   "cell_type": "markdown",
   "metadata": {},
   "source": [
    "Based on the accuracy, precision, recall, and F1 score values, the best performing method for YouTube data is the BERT classifier, with an accuracy of 0.74. This result seems to fit the expectations as BERT is a state-of-the-art language model known for its strong performance in various natural language processing tasks.\n",
    "\n",
    "For Twitter data, the best performing method is the BERT classifier as well, with an accuracy of 0.63. Again, this aligns with expectations as BERT has been widely recognized for its effectiveness in understanding and analyzing Twitter data.\n",
    "\n",
    "When comparing the prediction of positive and negative sentiment, it can be observed that the precision, recall, and F1 scores for positive sentiment are generally higher than those for negative sentiment. For example, in both Twitter and YouTube data, the precision, recall, and F1 scores for the positive class are consistently higher than those for the negative class across all three classifiers. This indicates that the models perform better at identifying positive sentiment compared to negative sentiment.\n",
    "\n",
    "The imbalance between positive and negative classes can have an impact on the calculation of accuracy. Accuracy is calculated by dividing the number of correct predictions (both positive and negative) by the total number of instances. When there is a significant class imbalance, such as a large number of positive instances and a smaller number of negative instances, the classifier may be biased towards predicting the majority class (positive) more accurately, resulting in a higher overall accuracy, which can be misleading. "
   ]
  },
  {
   "cell_type": "markdown",
   "metadata": {},
   "source": []
  },
  {
   "cell_type": "markdown",
   "metadata": {},
   "source": [
    "## Part 2 - Emotion Detection"
   ]
  },
  {
   "cell_type": "markdown",
   "metadata": {},
   "source": [
    "### Exercise 6 *(4 points)*"
   ]
  },
  {
   "cell_type": "markdown",
   "metadata": {},
   "source": [
    "In the following exercise you will use the emotion classification model [LEIA](https://huggingface.co/LEIA/LEIA-base) to classify the emotion of the sentences in the [enISEAR dataset](https://www.romanklinger.de/data-sets/). You can read more about the `LEIA-base` model in the [documentation](https://huggingface.co/LEIA/LEIA-base) and learn about the implementation details from this [paper](https://arxiv.org/abs/2304.10973)."
   ]
  },
  {
   "cell_type": "markdown",
   "metadata": {},
   "source": [
    "#### 6.1 LEIA introduction\n",
    "* Load the `LEIA-base` model and tokenize either as a [pipeline](https://huggingface.co/docs/transformers/main_classes/pipelines), or you can load the model and the tokenizer [directly](https://huggingface.co/docs/transformers/autoclass_tutorial) and implement the classification steps by yourself. LEIA only accepts sentences with up to 128 tokens. Make sure that your tokenizer [truncates](https://huggingface.co/docs/transformers/pad_truncation) longer sentences to this lenght to avoid errors.\n",
    "* What are the possible labels the model can predict?\n",
    "* Input the sentence `Today is a great day.` to the model, and predict the emotion of the sentence."
   ]
  },
  {
   "cell_type": "code",
   "execution_count": 40,
   "metadata": {},
   "outputs": [],
   "source": [
    "from transformers import AutoTokenizer, AutoModelForSequenceClassification"
   ]
  },
  {
   "cell_type": "code",
   "execution_count": 41,
   "metadata": {
    "scrolled": true
   },
   "outputs": [
    {
     "name": "stderr",
     "output_type": "stream",
     "text": [
      "emoji is not installed, thus not converting emoticons or emojis into text. Install emoji: pip3 install emoji==0.6.0\n"
     ]
    },
    {
     "data": {
      "text/plain": [
       "[{'label': 'Happiness', 'score': 0.7972075939178467}]"
      ]
     },
     "execution_count": 41,
     "metadata": {},
     "output_type": "execute_result"
    }
   ],
   "source": [
    "# Load the tokenizer with truncation to a maximum length of 128 tokens\n",
    "tokenizer = AutoTokenizer.from_pretrained(\"LEIA/LEIA-base\", truncation=True, max_length=128)\n",
    "\n",
    "# Create the pipeline with the specified tokenizer\n",
    "pipe = pipeline(\"text-classification\", model=\"LEIA/LEIA-base\", tokenizer=tokenizer)\n",
    "\n",
    "text = \"Today is a great day\"\n",
    "pipe(text)"
   ]
  },
  {
   "cell_type": "markdown",
   "metadata": {},
   "source": [
    "**What are the possible labels the model can predict?**  \n",
    "The model LEIA/LEIA-base can predict Sadness, Anger, Fear, Affection and Happinnes labels. "
   ]
  },
  {
   "cell_type": "markdown",
   "metadata": {},
   "source": [
    "#### 6.2 enISEAR dataset\n",
    "* Load the enISEAR dataset.\n",
    "* What are the possible labels in the dataset? (the `Prior_Emotion` column stores the actual label)\n",
    "* The last 7 columns store the number of annotators who chose the given emotion (e.g. if you have the value 3 in the column 'Anger', this means that 3 annotators believed that the sentence in the row expresses Anger). Create a new column `Annotator_Majority_Label`, which stores the emotion with the highest annotator score (i.e. the emotion the highest number of annotators chose for the given sentence).\n",
    "* What percent of the sentences were correctly classified by the (majority vote of the) annotators?"
   ]
  },
  {
   "cell_type": "code",
   "execution_count": 42,
   "metadata": {
    "scrolled": true
   },
   "outputs": [
    {
     "data": {
      "text/html": [
       "<div>\n",
       "<style scoped>\n",
       "    .dataframe tbody tr th:only-of-type {\n",
       "        vertical-align: middle;\n",
       "    }\n",
       "\n",
       "    .dataframe tbody tr th {\n",
       "        vertical-align: top;\n",
       "    }\n",
       "\n",
       "    .dataframe thead th {\n",
       "        text-align: right;\n",
       "    }\n",
       "</style>\n",
       "<table border=\"1\" class=\"dataframe\">\n",
       "  <thead>\n",
       "    <tr style=\"text-align: right;\">\n",
       "      <th></th>\n",
       "      <th>Sentence_id</th>\n",
       "      <th>Prior_Emotion</th>\n",
       "      <th>Sentence</th>\n",
       "      <th>Temporal_Distance</th>\n",
       "      <th>Intensity</th>\n",
       "      <th>Duration</th>\n",
       "      <th>Gender</th>\n",
       "      <th>City</th>\n",
       "      <th>Country</th>\n",
       "      <th>Worker_id</th>\n",
       "      <th>Time</th>\n",
       "      <th>Anger</th>\n",
       "      <th>Disgust</th>\n",
       "      <th>Fear</th>\n",
       "      <th>Guilt</th>\n",
       "      <th>Joy</th>\n",
       "      <th>Sadness</th>\n",
       "      <th>Shame</th>\n",
       "    </tr>\n",
       "  </thead>\n",
       "  <tbody>\n",
       "    <tr>\n",
       "      <th>0</th>\n",
       "      <td>271</td>\n",
       "      <td>Fear</td>\n",
       "      <td>I felt ... when my 2 year old broke her leg, a...</td>\n",
       "      <td>Y</td>\n",
       "      <td>Vi</td>\n",
       "      <td>Dom</td>\n",
       "      <td>Ml</td>\n",
       "      <td>Bristol</td>\n",
       "      <td>GBR</td>\n",
       "      <td>87</td>\n",
       "      <td>11/28/2018 00:58:52</td>\n",
       "      <td>0</td>\n",
       "      <td>0</td>\n",
       "      <td>0</td>\n",
       "      <td>1</td>\n",
       "      <td>0</td>\n",
       "      <td>3</td>\n",
       "      <td>1</td>\n",
       "    </tr>\n",
       "    <tr>\n",
       "      <th>1</th>\n",
       "      <td>597</td>\n",
       "      <td>Shame</td>\n",
       "      <td>I felt ... one Christmas as one of our patient...</td>\n",
       "      <td>Y</td>\n",
       "      <td>I</td>\n",
       "      <td>Dom</td>\n",
       "      <td>Fl</td>\n",
       "      <td>Dulwich</td>\n",
       "      <td>GBR</td>\n",
       "      <td>86</td>\n",
       "      <td>11/26/2018 06:52:02</td>\n",
       "      <td>1</td>\n",
       "      <td>0</td>\n",
       "      <td>0</td>\n",
       "      <td>4</td>\n",
       "      <td>0</td>\n",
       "      <td>0</td>\n",
       "      <td>0</td>\n",
       "    </tr>\n",
       "    <tr>\n",
       "      <th>2</th>\n",
       "      <td>282</td>\n",
       "      <td>Guilt</td>\n",
       "      <td>I felt ... because I could not help a friend w...</td>\n",
       "      <td>M</td>\n",
       "      <td>Mi</td>\n",
       "      <td>Dom</td>\n",
       "      <td>Fl</td>\n",
       "      <td>Linlithgow</td>\n",
       "      <td>GBR</td>\n",
       "      <td>83</td>\n",
       "      <td>11/21/2018 18:45:00</td>\n",
       "      <td>0</td>\n",
       "      <td>0</td>\n",
       "      <td>0</td>\n",
       "      <td>4</td>\n",
       "      <td>0</td>\n",
       "      <td>1</td>\n",
       "      <td>0</td>\n",
       "    </tr>\n",
       "    <tr>\n",
       "      <th>3</th>\n",
       "      <td>171</td>\n",
       "      <td>Disgust</td>\n",
       "      <td>I felt ... when I read that hunters had killed...</td>\n",
       "      <td>Y</td>\n",
       "      <td>Mi</td>\n",
       "      <td>H</td>\n",
       "      <td>Ml</td>\n",
       "      <td>Bristol</td>\n",
       "      <td>GBR</td>\n",
       "      <td>87</td>\n",
       "      <td>11/28/2018 00:55:11</td>\n",
       "      <td>3</td>\n",
       "      <td>0</td>\n",
       "      <td>0</td>\n",
       "      <td>0</td>\n",
       "      <td>0</td>\n",
       "      <td>2</td>\n",
       "      <td>0</td>\n",
       "    </tr>\n",
       "    <tr>\n",
       "      <th>4</th>\n",
       "      <td>509</td>\n",
       "      <td>Sadness</td>\n",
       "      <td>I felt ... when my Gran passed away.</td>\n",
       "      <td>Y</td>\n",
       "      <td>Vi</td>\n",
       "      <td>Dom</td>\n",
       "      <td>Fl</td>\n",
       "      <td>Stoke-on-trent</td>\n",
       "      <td>GBR</td>\n",
       "      <td>92</td>\n",
       "      <td>11/26/2018 09:23:38</td>\n",
       "      <td>0</td>\n",
       "      <td>0</td>\n",
       "      <td>0</td>\n",
       "      <td>0</td>\n",
       "      <td>0</td>\n",
       "      <td>5</td>\n",
       "      <td>0</td>\n",
       "    </tr>\n",
       "  </tbody>\n",
       "</table>\n",
       "</div>"
      ],
      "text/plain": [
       "   Sentence_id Prior_Emotion  \\\n",
       "0          271          Fear   \n",
       "1          597         Shame   \n",
       "2          282         Guilt   \n",
       "3          171       Disgust   \n",
       "4          509       Sadness   \n",
       "\n",
       "                                            Sentence Temporal_Distance  \\\n",
       "0  I felt ... when my 2 year old broke her leg, a...                 Y   \n",
       "1  I felt ... one Christmas as one of our patient...                 Y   \n",
       "2  I felt ... because I could not help a friend w...                 M   \n",
       "3  I felt ... when I read that hunters had killed...                 Y   \n",
       "4               I felt ... when my Gran passed away.                 Y   \n",
       "\n",
       "  Intensity Duration Gender            City Country  Worker_id  \\\n",
       "0        Vi      Dom     Ml         Bristol     GBR         87   \n",
       "1         I      Dom     Fl         Dulwich     GBR         86   \n",
       "2        Mi      Dom     Fl      Linlithgow     GBR         83   \n",
       "3        Mi        H     Ml         Bristol     GBR         87   \n",
       "4        Vi      Dom     Fl  Stoke-on-trent     GBR         92   \n",
       "\n",
       "                  Time  Anger  Disgust  Fear  Guilt  Joy  Sadness  Shame  \n",
       "0  11/28/2018 00:58:52      0        0     0      1    0        3      1  \n",
       "1  11/26/2018 06:52:02      1        0     0      4    0        0      0  \n",
       "2  11/21/2018 18:45:00      0        0     0      4    0        1      0  \n",
       "3  11/28/2018 00:55:11      3        0     0      0    0        2      0  \n",
       "4  11/26/2018 09:23:38      0        0     0      0    0        5      0  "
      ]
     },
     "execution_count": 42,
     "metadata": {},
     "output_type": "execute_result"
    }
   ],
   "source": [
    "df = pd.read_csv('enISEARtsv.sec', delimiter=\"\\t\")\n",
    "df.head()"
   ]
  },
  {
   "cell_type": "markdown",
   "metadata": {},
   "source": [
    "**What are the possible labels in the dataset?**  \n",
    "The possible labels are: Anger, Disgust, Fear, Guilt, Joy, Sadness and Shame."
   ]
  },
  {
   "cell_type": "code",
   "execution_count": 43,
   "metadata": {},
   "outputs": [],
   "source": [
    "# select the relevant score columns\n",
    "score_columns = ['Anger', 'Disgust', 'Fear', 'Guilt', 'Joy', 'Sadness', 'Shame']\n",
    "df['Annotator_Majority_Label'] = df[score_columns].idxmax(axis=1)"
   ]
  },
  {
   "cell_type": "code",
   "execution_count": 44,
   "metadata": {
    "scrolled": true
   },
   "outputs": [
    {
     "data": {
      "text/html": [
       "<div>\n",
       "<style scoped>\n",
       "    .dataframe tbody tr th:only-of-type {\n",
       "        vertical-align: middle;\n",
       "    }\n",
       "\n",
       "    .dataframe tbody tr th {\n",
       "        vertical-align: top;\n",
       "    }\n",
       "\n",
       "    .dataframe thead th {\n",
       "        text-align: right;\n",
       "    }\n",
       "</style>\n",
       "<table border=\"1\" class=\"dataframe\">\n",
       "  <thead>\n",
       "    <tr style=\"text-align: right;\">\n",
       "      <th></th>\n",
       "      <th>Sentence_id</th>\n",
       "      <th>Prior_Emotion</th>\n",
       "      <th>Sentence</th>\n",
       "      <th>Temporal_Distance</th>\n",
       "      <th>Intensity</th>\n",
       "      <th>Duration</th>\n",
       "      <th>Gender</th>\n",
       "      <th>City</th>\n",
       "      <th>Country</th>\n",
       "      <th>Worker_id</th>\n",
       "      <th>Time</th>\n",
       "      <th>Anger</th>\n",
       "      <th>Disgust</th>\n",
       "      <th>Fear</th>\n",
       "      <th>Guilt</th>\n",
       "      <th>Joy</th>\n",
       "      <th>Sadness</th>\n",
       "      <th>Shame</th>\n",
       "      <th>Annotator_Majority_Label</th>\n",
       "    </tr>\n",
       "  </thead>\n",
       "  <tbody>\n",
       "    <tr>\n",
       "      <th>0</th>\n",
       "      <td>271</td>\n",
       "      <td>Fear</td>\n",
       "      <td>I felt ... when my 2 year old broke her leg, a...</td>\n",
       "      <td>Y</td>\n",
       "      <td>Vi</td>\n",
       "      <td>Dom</td>\n",
       "      <td>Ml</td>\n",
       "      <td>Bristol</td>\n",
       "      <td>GBR</td>\n",
       "      <td>87</td>\n",
       "      <td>11/28/2018 00:58:52</td>\n",
       "      <td>0</td>\n",
       "      <td>0</td>\n",
       "      <td>0</td>\n",
       "      <td>1</td>\n",
       "      <td>0</td>\n",
       "      <td>3</td>\n",
       "      <td>1</td>\n",
       "      <td>Sadness</td>\n",
       "    </tr>\n",
       "    <tr>\n",
       "      <th>1</th>\n",
       "      <td>597</td>\n",
       "      <td>Shame</td>\n",
       "      <td>I felt ... one Christmas as one of our patient...</td>\n",
       "      <td>Y</td>\n",
       "      <td>I</td>\n",
       "      <td>Dom</td>\n",
       "      <td>Fl</td>\n",
       "      <td>Dulwich</td>\n",
       "      <td>GBR</td>\n",
       "      <td>86</td>\n",
       "      <td>11/26/2018 06:52:02</td>\n",
       "      <td>1</td>\n",
       "      <td>0</td>\n",
       "      <td>0</td>\n",
       "      <td>4</td>\n",
       "      <td>0</td>\n",
       "      <td>0</td>\n",
       "      <td>0</td>\n",
       "      <td>Guilt</td>\n",
       "    </tr>\n",
       "    <tr>\n",
       "      <th>2</th>\n",
       "      <td>282</td>\n",
       "      <td>Guilt</td>\n",
       "      <td>I felt ... because I could not help a friend w...</td>\n",
       "      <td>M</td>\n",
       "      <td>Mi</td>\n",
       "      <td>Dom</td>\n",
       "      <td>Fl</td>\n",
       "      <td>Linlithgow</td>\n",
       "      <td>GBR</td>\n",
       "      <td>83</td>\n",
       "      <td>11/21/2018 18:45:00</td>\n",
       "      <td>0</td>\n",
       "      <td>0</td>\n",
       "      <td>0</td>\n",
       "      <td>4</td>\n",
       "      <td>0</td>\n",
       "      <td>1</td>\n",
       "      <td>0</td>\n",
       "      <td>Guilt</td>\n",
       "    </tr>\n",
       "    <tr>\n",
       "      <th>3</th>\n",
       "      <td>171</td>\n",
       "      <td>Disgust</td>\n",
       "      <td>I felt ... when I read that hunters had killed...</td>\n",
       "      <td>Y</td>\n",
       "      <td>Mi</td>\n",
       "      <td>H</td>\n",
       "      <td>Ml</td>\n",
       "      <td>Bristol</td>\n",
       "      <td>GBR</td>\n",
       "      <td>87</td>\n",
       "      <td>11/28/2018 00:55:11</td>\n",
       "      <td>3</td>\n",
       "      <td>0</td>\n",
       "      <td>0</td>\n",
       "      <td>0</td>\n",
       "      <td>0</td>\n",
       "      <td>2</td>\n",
       "      <td>0</td>\n",
       "      <td>Anger</td>\n",
       "    </tr>\n",
       "    <tr>\n",
       "      <th>4</th>\n",
       "      <td>509</td>\n",
       "      <td>Sadness</td>\n",
       "      <td>I felt ... when my Gran passed away.</td>\n",
       "      <td>Y</td>\n",
       "      <td>Vi</td>\n",
       "      <td>Dom</td>\n",
       "      <td>Fl</td>\n",
       "      <td>Stoke-on-trent</td>\n",
       "      <td>GBR</td>\n",
       "      <td>92</td>\n",
       "      <td>11/26/2018 09:23:38</td>\n",
       "      <td>0</td>\n",
       "      <td>0</td>\n",
       "      <td>0</td>\n",
       "      <td>0</td>\n",
       "      <td>0</td>\n",
       "      <td>5</td>\n",
       "      <td>0</td>\n",
       "      <td>Sadness</td>\n",
       "    </tr>\n",
       "  </tbody>\n",
       "</table>\n",
       "</div>"
      ],
      "text/plain": [
       "   Sentence_id Prior_Emotion  \\\n",
       "0          271          Fear   \n",
       "1          597         Shame   \n",
       "2          282         Guilt   \n",
       "3          171       Disgust   \n",
       "4          509       Sadness   \n",
       "\n",
       "                                            Sentence Temporal_Distance  \\\n",
       "0  I felt ... when my 2 year old broke her leg, a...                 Y   \n",
       "1  I felt ... one Christmas as one of our patient...                 Y   \n",
       "2  I felt ... because I could not help a friend w...                 M   \n",
       "3  I felt ... when I read that hunters had killed...                 Y   \n",
       "4               I felt ... when my Gran passed away.                 Y   \n",
       "\n",
       "  Intensity Duration Gender            City Country  Worker_id  \\\n",
       "0        Vi      Dom     Ml         Bristol     GBR         87   \n",
       "1         I      Dom     Fl         Dulwich     GBR         86   \n",
       "2        Mi      Dom     Fl      Linlithgow     GBR         83   \n",
       "3        Mi        H     Ml         Bristol     GBR         87   \n",
       "4        Vi      Dom     Fl  Stoke-on-trent     GBR         92   \n",
       "\n",
       "                  Time  Anger  Disgust  Fear  Guilt  Joy  Sadness  Shame  \\\n",
       "0  11/28/2018 00:58:52      0        0     0      1    0        3      1   \n",
       "1  11/26/2018 06:52:02      1        0     0      4    0        0      0   \n",
       "2  11/21/2018 18:45:00      0        0     0      4    0        1      0   \n",
       "3  11/28/2018 00:55:11      3        0     0      0    0        2      0   \n",
       "4  11/26/2018 09:23:38      0        0     0      0    0        5      0   \n",
       "\n",
       "  Annotator_Majority_Label  \n",
       "0                  Sadness  \n",
       "1                    Guilt  \n",
       "2                    Guilt  \n",
       "3                    Anger  \n",
       "4                  Sadness  "
      ]
     },
     "execution_count": 44,
     "metadata": {},
     "output_type": "execute_result"
    }
   ],
   "source": [
    "#check\n",
    "df.head()"
   ]
  },
  {
   "cell_type": "code",
   "execution_count": 45,
   "metadata": {},
   "outputs": [
    {
     "name": "stdout",
     "output_type": "stream",
     "text": [
      "79.6 % of the sentences were correctly classified by the (majority vote of the) annotators\n"
     ]
    }
   ],
   "source": [
    "from sklearn.metrics import accuracy_score\n",
    "accuracy = accuracy_score(df['Prior_Emotion'], df['Annotator_Majority_Label'])\n",
    "print(round(accuracy*100, 1),'% of the sentences were correctly classified by the (majority vote of the) annotators')"
   ]
  },
  {
   "cell_type": "markdown",
   "metadata": {},
   "source": [
    "#### 6.3 Classification\n",
    "* Drop the rows from the enISEAR dataset, where the `Prior_Emotion` is not one of `Fear`, `Sadness`, `Anger` or `Joy`\n",
    "* Use `Leia` to classify the emotion of each remaining sentence in the dataset, and add a column `Leia_Label` to store the predicted classes\n",
    "* Now remove `I felt ... ` from the beginning of each sentence, and rerun the classfication. Store your results in a column named `Leia_Label_Clean`\n",
    "* Where the model predicted `Happiness` or `Affection`, change the prediction to `Joy` to match the dataset's labels (for both columns -> `Leia_Label` and `Leia_Label_Clean`)"
   ]
  },
  {
   "cell_type": "code",
   "execution_count": 46,
   "metadata": {},
   "outputs": [],
   "source": [
    "# Drop the rows, where the Prior_Emotion is not one of Fear, Sadness, Anger or Joy\n",
    "df = df[df['Prior_Emotion'].isin([\"Fear\", \"Sadness\", \"Anger\", \"Joy\"])]"
   ]
  },
  {
   "cell_type": "code",
   "execution_count": 47,
   "metadata": {},
   "outputs": [
    {
     "name": "stderr",
     "output_type": "stream",
     "text": [
      "emoji is not installed, thus not converting emoticons or emojis into text. Install emoji: pip3 install emoji==0.6.0\n"
     ]
    },
    {
     "data": {
      "text/html": [
       "<div>\n",
       "<style scoped>\n",
       "    .dataframe tbody tr th:only-of-type {\n",
       "        vertical-align: middle;\n",
       "    }\n",
       "\n",
       "    .dataframe tbody tr th {\n",
       "        vertical-align: top;\n",
       "    }\n",
       "\n",
       "    .dataframe thead th {\n",
       "        text-align: right;\n",
       "    }\n",
       "</style>\n",
       "<table border=\"1\" class=\"dataframe\">\n",
       "  <thead>\n",
       "    <tr style=\"text-align: right;\">\n",
       "      <th></th>\n",
       "      <th>Sentence_id</th>\n",
       "      <th>Prior_Emotion</th>\n",
       "      <th>Sentence</th>\n",
       "      <th>Temporal_Distance</th>\n",
       "      <th>Intensity</th>\n",
       "      <th>Duration</th>\n",
       "      <th>Gender</th>\n",
       "      <th>City</th>\n",
       "      <th>Country</th>\n",
       "      <th>Worker_id</th>\n",
       "      <th>Time</th>\n",
       "      <th>Anger</th>\n",
       "      <th>Disgust</th>\n",
       "      <th>Fear</th>\n",
       "      <th>Guilt</th>\n",
       "      <th>Joy</th>\n",
       "      <th>Sadness</th>\n",
       "      <th>Shame</th>\n",
       "      <th>Annotator_Majority_Label</th>\n",
       "      <th>Leia_Label</th>\n",
       "    </tr>\n",
       "  </thead>\n",
       "  <tbody>\n",
       "    <tr>\n",
       "      <th>0</th>\n",
       "      <td>271</td>\n",
       "      <td>Fear</td>\n",
       "      <td>I felt ... when my 2 year old broke her leg, a...</td>\n",
       "      <td>Y</td>\n",
       "      <td>Vi</td>\n",
       "      <td>Dom</td>\n",
       "      <td>Ml</td>\n",
       "      <td>Bristol</td>\n",
       "      <td>GBR</td>\n",
       "      <td>87</td>\n",
       "      <td>11/28/2018 00:58:52</td>\n",
       "      <td>0</td>\n",
       "      <td>0</td>\n",
       "      <td>0</td>\n",
       "      <td>1</td>\n",
       "      <td>0</td>\n",
       "      <td>3</td>\n",
       "      <td>1</td>\n",
       "      <td>Sadness</td>\n",
       "      <td>Fear</td>\n",
       "    </tr>\n",
       "    <tr>\n",
       "      <th>4</th>\n",
       "      <td>509</td>\n",
       "      <td>Sadness</td>\n",
       "      <td>I felt ... when my Gran passed away.</td>\n",
       "      <td>Y</td>\n",
       "      <td>Vi</td>\n",
       "      <td>Dom</td>\n",
       "      <td>Fl</td>\n",
       "      <td>Stoke-on-trent</td>\n",
       "      <td>GBR</td>\n",
       "      <td>92</td>\n",
       "      <td>11/26/2018 09:23:38</td>\n",
       "      <td>0</td>\n",
       "      <td>0</td>\n",
       "      <td>0</td>\n",
       "      <td>0</td>\n",
       "      <td>0</td>\n",
       "      <td>5</td>\n",
       "      <td>0</td>\n",
       "      <td>Sadness</td>\n",
       "      <td>Sadness</td>\n",
       "    </tr>\n",
       "    <tr>\n",
       "      <th>6</th>\n",
       "      <td>218</td>\n",
       "      <td>Fear</td>\n",
       "      <td>I felt ... when an aeroplane I was on hit a he...</td>\n",
       "      <td>Y</td>\n",
       "      <td>Vi</td>\n",
       "      <td>Sh</td>\n",
       "      <td>Ml</td>\n",
       "      <td>Prescot</td>\n",
       "      <td>GBR</td>\n",
       "      <td>63</td>\n",
       "      <td>11/24/2018 09:14:44</td>\n",
       "      <td>0</td>\n",
       "      <td>0</td>\n",
       "      <td>5</td>\n",
       "      <td>0</td>\n",
       "      <td>0</td>\n",
       "      <td>0</td>\n",
       "      <td>0</td>\n",
       "      <td>Fear</td>\n",
       "      <td>Fear</td>\n",
       "    </tr>\n",
       "    <tr>\n",
       "      <th>8</th>\n",
       "      <td>553</td>\n",
       "      <td>Sadness</td>\n",
       "      <td>I felt ... when my lover Pierre-Guillaume left...</td>\n",
       "      <td>M</td>\n",
       "      <td>Vi</td>\n",
       "      <td>Dom</td>\n",
       "      <td>Fl</td>\n",
       "      <td>NaN</td>\n",
       "      <td>GBR</td>\n",
       "      <td>105</td>\n",
       "      <td>11/28/2018 09:31:20</td>\n",
       "      <td>4</td>\n",
       "      <td>0</td>\n",
       "      <td>0</td>\n",
       "      <td>0</td>\n",
       "      <td>0</td>\n",
       "      <td>1</td>\n",
       "      <td>0</td>\n",
       "      <td>Anger</td>\n",
       "      <td>Sadness</td>\n",
       "    </tr>\n",
       "    <tr>\n",
       "      <th>9</th>\n",
       "      <td>58</td>\n",
       "      <td>Anger</td>\n",
       "      <td>I felt ... when someone hit my wife's car and ...</td>\n",
       "      <td>W</td>\n",
       "      <td>Mi</td>\n",
       "      <td>H</td>\n",
       "      <td>Ml</td>\n",
       "      <td>Bristol</td>\n",
       "      <td>GBR</td>\n",
       "      <td>87</td>\n",
       "      <td>11/28/2018 00:53:03</td>\n",
       "      <td>5</td>\n",
       "      <td>0</td>\n",
       "      <td>0</td>\n",
       "      <td>0</td>\n",
       "      <td>0</td>\n",
       "      <td>0</td>\n",
       "      <td>0</td>\n",
       "      <td>Anger</td>\n",
       "      <td>Sadness</td>\n",
       "    </tr>\n",
       "  </tbody>\n",
       "</table>\n",
       "</div>"
      ],
      "text/plain": [
       "   Sentence_id Prior_Emotion  \\\n",
       "0          271          Fear   \n",
       "4          509       Sadness   \n",
       "6          218          Fear   \n",
       "8          553       Sadness   \n",
       "9           58         Anger   \n",
       "\n",
       "                                            Sentence Temporal_Distance  \\\n",
       "0  I felt ... when my 2 year old broke her leg, a...                 Y   \n",
       "4               I felt ... when my Gran passed away.                 Y   \n",
       "6  I felt ... when an aeroplane I was on hit a he...                 Y   \n",
       "8  I felt ... when my lover Pierre-Guillaume left...                 M   \n",
       "9  I felt ... when someone hit my wife's car and ...                 W   \n",
       "\n",
       "  Intensity Duration Gender            City Country  Worker_id  \\\n",
       "0        Vi      Dom     Ml         Bristol     GBR         87   \n",
       "4        Vi      Dom     Fl  Stoke-on-trent     GBR         92   \n",
       "6        Vi       Sh     Ml         Prescot     GBR         63   \n",
       "8        Vi      Dom     Fl             NaN     GBR        105   \n",
       "9        Mi        H     Ml         Bristol     GBR         87   \n",
       "\n",
       "                  Time  Anger  Disgust  Fear  Guilt  Joy  Sadness  Shame  \\\n",
       "0  11/28/2018 00:58:52      0        0     0      1    0        3      1   \n",
       "4  11/26/2018 09:23:38      0        0     0      0    0        5      0   \n",
       "6  11/24/2018 09:14:44      0        0     5      0    0        0      0   \n",
       "8  11/28/2018 09:31:20      4        0     0      0    0        1      0   \n",
       "9  11/28/2018 00:53:03      5        0     0      0    0        0      0   \n",
       "\n",
       "  Annotator_Majority_Label Leia_Label  \n",
       "0                  Sadness       Fear  \n",
       "4                  Sadness    Sadness  \n",
       "6                     Fear       Fear  \n",
       "8                    Anger    Sadness  \n",
       "9                    Anger    Sadness  "
      ]
     },
     "execution_count": 47,
     "metadata": {},
     "output_type": "execute_result"
    }
   ],
   "source": [
    "# Load the LEIA model\n",
    "model_name = \"LEIA/LEIA-base\"\n",
    "model = AutoModelForSequenceClassification.from_pretrained(model_name)\n",
    "tokenizer = AutoTokenizer.from_pretrained(model_name)\n",
    "\n",
    "emotions = {0: 'Sadness', 1:'Happiness', 2:'Fear', 3:'Affection', 4:'Anger'}\n",
    "\n",
    "# Apply the function to each sentence\n",
    "df['Leia_Label'] = df['Sentence'].apply(lambda x: emotions.get(model(**tokenizer(x, truncation=True, padding=True, return_tensors=\"pt\")).logits.argmax(dim=1).item()))\n",
    "df.head()"
   ]
  },
  {
   "cell_type": "code",
   "execution_count": 48,
   "metadata": {},
   "outputs": [
    {
     "data": {
      "text/html": [
       "<div>\n",
       "<style scoped>\n",
       "    .dataframe tbody tr th:only-of-type {\n",
       "        vertical-align: middle;\n",
       "    }\n",
       "\n",
       "    .dataframe tbody tr th {\n",
       "        vertical-align: top;\n",
       "    }\n",
       "\n",
       "    .dataframe thead th {\n",
       "        text-align: right;\n",
       "    }\n",
       "</style>\n",
       "<table border=\"1\" class=\"dataframe\">\n",
       "  <thead>\n",
       "    <tr style=\"text-align: right;\">\n",
       "      <th></th>\n",
       "      <th>Sentence_id</th>\n",
       "      <th>Prior_Emotion</th>\n",
       "      <th>Sentence</th>\n",
       "      <th>Temporal_Distance</th>\n",
       "      <th>Intensity</th>\n",
       "      <th>Duration</th>\n",
       "      <th>Gender</th>\n",
       "      <th>City</th>\n",
       "      <th>Country</th>\n",
       "      <th>Worker_id</th>\n",
       "      <th>...</th>\n",
       "      <th>Anger</th>\n",
       "      <th>Disgust</th>\n",
       "      <th>Fear</th>\n",
       "      <th>Guilt</th>\n",
       "      <th>Joy</th>\n",
       "      <th>Sadness</th>\n",
       "      <th>Shame</th>\n",
       "      <th>Annotator_Majority_Label</th>\n",
       "      <th>Leia_Label</th>\n",
       "      <th>Leia_Label_Clean</th>\n",
       "    </tr>\n",
       "  </thead>\n",
       "  <tbody>\n",
       "    <tr>\n",
       "      <th>0</th>\n",
       "      <td>271</td>\n",
       "      <td>Fear</td>\n",
       "      <td>... when my 2 year old broke her leg, and we f...</td>\n",
       "      <td>Y</td>\n",
       "      <td>Vi</td>\n",
       "      <td>Dom</td>\n",
       "      <td>Ml</td>\n",
       "      <td>Bristol</td>\n",
       "      <td>GBR</td>\n",
       "      <td>87</td>\n",
       "      <td>...</td>\n",
       "      <td>0</td>\n",
       "      <td>0</td>\n",
       "      <td>0</td>\n",
       "      <td>1</td>\n",
       "      <td>0</td>\n",
       "      <td>3</td>\n",
       "      <td>1</td>\n",
       "      <td>Sadness</td>\n",
       "      <td>Fear</td>\n",
       "      <td>Sadness</td>\n",
       "    </tr>\n",
       "    <tr>\n",
       "      <th>4</th>\n",
       "      <td>509</td>\n",
       "      <td>Sadness</td>\n",
       "      <td>... when my Gran passed away.</td>\n",
       "      <td>Y</td>\n",
       "      <td>Vi</td>\n",
       "      <td>Dom</td>\n",
       "      <td>Fl</td>\n",
       "      <td>Stoke-on-trent</td>\n",
       "      <td>GBR</td>\n",
       "      <td>92</td>\n",
       "      <td>...</td>\n",
       "      <td>0</td>\n",
       "      <td>0</td>\n",
       "      <td>0</td>\n",
       "      <td>0</td>\n",
       "      <td>0</td>\n",
       "      <td>5</td>\n",
       "      <td>0</td>\n",
       "      <td>Sadness</td>\n",
       "      <td>Sadness</td>\n",
       "      <td>Sadness</td>\n",
       "    </tr>\n",
       "    <tr>\n",
       "      <th>6</th>\n",
       "      <td>218</td>\n",
       "      <td>Fear</td>\n",
       "      <td>... when an aeroplane I was on hit a heavy tur...</td>\n",
       "      <td>Y</td>\n",
       "      <td>Vi</td>\n",
       "      <td>Sh</td>\n",
       "      <td>Ml</td>\n",
       "      <td>Prescot</td>\n",
       "      <td>GBR</td>\n",
       "      <td>63</td>\n",
       "      <td>...</td>\n",
       "      <td>0</td>\n",
       "      <td>0</td>\n",
       "      <td>5</td>\n",
       "      <td>0</td>\n",
       "      <td>0</td>\n",
       "      <td>0</td>\n",
       "      <td>0</td>\n",
       "      <td>Fear</td>\n",
       "      <td>Fear</td>\n",
       "      <td>Fear</td>\n",
       "    </tr>\n",
       "    <tr>\n",
       "      <th>8</th>\n",
       "      <td>553</td>\n",
       "      <td>Sadness</td>\n",
       "      <td>... when my lover Pierre-Guillaume left me for...</td>\n",
       "      <td>M</td>\n",
       "      <td>Vi</td>\n",
       "      <td>Dom</td>\n",
       "      <td>Fl</td>\n",
       "      <td>NaN</td>\n",
       "      <td>GBR</td>\n",
       "      <td>105</td>\n",
       "      <td>...</td>\n",
       "      <td>4</td>\n",
       "      <td>0</td>\n",
       "      <td>0</td>\n",
       "      <td>0</td>\n",
       "      <td>0</td>\n",
       "      <td>1</td>\n",
       "      <td>0</td>\n",
       "      <td>Anger</td>\n",
       "      <td>Sadness</td>\n",
       "      <td>Sadness</td>\n",
       "    </tr>\n",
       "    <tr>\n",
       "      <th>9</th>\n",
       "      <td>58</td>\n",
       "      <td>Anger</td>\n",
       "      <td>... when someone hit my wife's car and drove a...</td>\n",
       "      <td>W</td>\n",
       "      <td>Mi</td>\n",
       "      <td>H</td>\n",
       "      <td>Ml</td>\n",
       "      <td>Bristol</td>\n",
       "      <td>GBR</td>\n",
       "      <td>87</td>\n",
       "      <td>...</td>\n",
       "      <td>5</td>\n",
       "      <td>0</td>\n",
       "      <td>0</td>\n",
       "      <td>0</td>\n",
       "      <td>0</td>\n",
       "      <td>0</td>\n",
       "      <td>0</td>\n",
       "      <td>Anger</td>\n",
       "      <td>Sadness</td>\n",
       "      <td>Sadness</td>\n",
       "    </tr>\n",
       "  </tbody>\n",
       "</table>\n",
       "<p>5 rows × 21 columns</p>\n",
       "</div>"
      ],
      "text/plain": [
       "   Sentence_id Prior_Emotion  \\\n",
       "0          271          Fear   \n",
       "4          509       Sadness   \n",
       "6          218          Fear   \n",
       "8          553       Sadness   \n",
       "9           58         Anger   \n",
       "\n",
       "                                            Sentence Temporal_Distance  \\\n",
       "0  ... when my 2 year old broke her leg, and we f...                 Y   \n",
       "4                      ... when my Gran passed away.                 Y   \n",
       "6  ... when an aeroplane I was on hit a heavy tur...                 Y   \n",
       "8  ... when my lover Pierre-Guillaume left me for...                 M   \n",
       "9  ... when someone hit my wife's car and drove a...                 W   \n",
       "\n",
       "  Intensity Duration Gender            City Country  Worker_id  ... Anger  \\\n",
       "0        Vi      Dom     Ml         Bristol     GBR         87  ...     0   \n",
       "4        Vi      Dom     Fl  Stoke-on-trent     GBR         92  ...     0   \n",
       "6        Vi       Sh     Ml         Prescot     GBR         63  ...     0   \n",
       "8        Vi      Dom     Fl             NaN     GBR        105  ...     4   \n",
       "9        Mi        H     Ml         Bristol     GBR         87  ...     5   \n",
       "\n",
       "   Disgust  Fear  Guilt  Joy  Sadness  Shame  Annotator_Majority_Label  \\\n",
       "0        0     0      1    0        3      1                   Sadness   \n",
       "4        0     0      0    0        5      0                   Sadness   \n",
       "6        0     5      0    0        0      0                      Fear   \n",
       "8        0     0      0    0        1      0                     Anger   \n",
       "9        0     0      0    0        0      0                     Anger   \n",
       "\n",
       "  Leia_Label Leia_Label_Clean  \n",
       "0       Fear          Sadness  \n",
       "4    Sadness          Sadness  \n",
       "6       Fear             Fear  \n",
       "8    Sadness          Sadness  \n",
       "9    Sadness          Sadness  \n",
       "\n",
       "[5 rows x 21 columns]"
      ]
     },
     "execution_count": 48,
     "metadata": {},
     "output_type": "execute_result"
    }
   ],
   "source": [
    "#remove I felt ...  from the beginning of each sentence, and rerun the classfication\n",
    "df['Sentence'] = df['Sentence'].str.replace('^I felt ', '', regex=True)\n",
    "df['Leia_Label_Clean'] = df['Sentence'].apply(lambda x: emotions.get(model(**tokenizer(x, truncation=True, padding=True, return_tensors=\"pt\")).logits.argmax(dim=1).item()))\n",
    "df.head()"
   ]
  },
  {
   "cell_type": "code",
   "execution_count": 49,
   "metadata": {
    "scrolled": true
   },
   "outputs": [
    {
     "data": {
      "text/html": [
       "<div>\n",
       "<style scoped>\n",
       "    .dataframe tbody tr th:only-of-type {\n",
       "        vertical-align: middle;\n",
       "    }\n",
       "\n",
       "    .dataframe tbody tr th {\n",
       "        vertical-align: top;\n",
       "    }\n",
       "\n",
       "    .dataframe thead th {\n",
       "        text-align: right;\n",
       "    }\n",
       "</style>\n",
       "<table border=\"1\" class=\"dataframe\">\n",
       "  <thead>\n",
       "    <tr style=\"text-align: right;\">\n",
       "      <th></th>\n",
       "      <th>Sentence_id</th>\n",
       "      <th>Prior_Emotion</th>\n",
       "      <th>Sentence</th>\n",
       "      <th>Temporal_Distance</th>\n",
       "      <th>Intensity</th>\n",
       "      <th>Duration</th>\n",
       "      <th>Gender</th>\n",
       "      <th>City</th>\n",
       "      <th>Country</th>\n",
       "      <th>Worker_id</th>\n",
       "      <th>...</th>\n",
       "      <th>Anger</th>\n",
       "      <th>Disgust</th>\n",
       "      <th>Fear</th>\n",
       "      <th>Guilt</th>\n",
       "      <th>Joy</th>\n",
       "      <th>Sadness</th>\n",
       "      <th>Shame</th>\n",
       "      <th>Annotator_Majority_Label</th>\n",
       "      <th>Leia_Label</th>\n",
       "      <th>Leia_Label_Clean</th>\n",
       "    </tr>\n",
       "  </thead>\n",
       "  <tbody>\n",
       "    <tr>\n",
       "      <th>0</th>\n",
       "      <td>271</td>\n",
       "      <td>Fear</td>\n",
       "      <td>... when my 2 year old broke her leg, and we f...</td>\n",
       "      <td>Y</td>\n",
       "      <td>Vi</td>\n",
       "      <td>Dom</td>\n",
       "      <td>Ml</td>\n",
       "      <td>Bristol</td>\n",
       "      <td>GBR</td>\n",
       "      <td>87</td>\n",
       "      <td>...</td>\n",
       "      <td>0</td>\n",
       "      <td>0</td>\n",
       "      <td>0</td>\n",
       "      <td>1</td>\n",
       "      <td>0</td>\n",
       "      <td>3</td>\n",
       "      <td>1</td>\n",
       "      <td>Sadness</td>\n",
       "      <td>Fear</td>\n",
       "      <td>Sadness</td>\n",
       "    </tr>\n",
       "    <tr>\n",
       "      <th>4</th>\n",
       "      <td>509</td>\n",
       "      <td>Sadness</td>\n",
       "      <td>... when my Gran passed away.</td>\n",
       "      <td>Y</td>\n",
       "      <td>Vi</td>\n",
       "      <td>Dom</td>\n",
       "      <td>Fl</td>\n",
       "      <td>Stoke-on-trent</td>\n",
       "      <td>GBR</td>\n",
       "      <td>92</td>\n",
       "      <td>...</td>\n",
       "      <td>0</td>\n",
       "      <td>0</td>\n",
       "      <td>0</td>\n",
       "      <td>0</td>\n",
       "      <td>0</td>\n",
       "      <td>5</td>\n",
       "      <td>0</td>\n",
       "      <td>Sadness</td>\n",
       "      <td>Sadness</td>\n",
       "      <td>Sadness</td>\n",
       "    </tr>\n",
       "    <tr>\n",
       "      <th>6</th>\n",
       "      <td>218</td>\n",
       "      <td>Fear</td>\n",
       "      <td>... when an aeroplane I was on hit a heavy tur...</td>\n",
       "      <td>Y</td>\n",
       "      <td>Vi</td>\n",
       "      <td>Sh</td>\n",
       "      <td>Ml</td>\n",
       "      <td>Prescot</td>\n",
       "      <td>GBR</td>\n",
       "      <td>63</td>\n",
       "      <td>...</td>\n",
       "      <td>0</td>\n",
       "      <td>0</td>\n",
       "      <td>5</td>\n",
       "      <td>0</td>\n",
       "      <td>0</td>\n",
       "      <td>0</td>\n",
       "      <td>0</td>\n",
       "      <td>Fear</td>\n",
       "      <td>Fear</td>\n",
       "      <td>Fear</td>\n",
       "    </tr>\n",
       "    <tr>\n",
       "      <th>8</th>\n",
       "      <td>553</td>\n",
       "      <td>Sadness</td>\n",
       "      <td>... when my lover Pierre-Guillaume left me for...</td>\n",
       "      <td>M</td>\n",
       "      <td>Vi</td>\n",
       "      <td>Dom</td>\n",
       "      <td>Fl</td>\n",
       "      <td>NaN</td>\n",
       "      <td>GBR</td>\n",
       "      <td>105</td>\n",
       "      <td>...</td>\n",
       "      <td>4</td>\n",
       "      <td>0</td>\n",
       "      <td>0</td>\n",
       "      <td>0</td>\n",
       "      <td>0</td>\n",
       "      <td>1</td>\n",
       "      <td>0</td>\n",
       "      <td>Anger</td>\n",
       "      <td>Sadness</td>\n",
       "      <td>Sadness</td>\n",
       "    </tr>\n",
       "    <tr>\n",
       "      <th>9</th>\n",
       "      <td>58</td>\n",
       "      <td>Anger</td>\n",
       "      <td>... when someone hit my wife's car and drove a...</td>\n",
       "      <td>W</td>\n",
       "      <td>Mi</td>\n",
       "      <td>H</td>\n",
       "      <td>Ml</td>\n",
       "      <td>Bristol</td>\n",
       "      <td>GBR</td>\n",
       "      <td>87</td>\n",
       "      <td>...</td>\n",
       "      <td>5</td>\n",
       "      <td>0</td>\n",
       "      <td>0</td>\n",
       "      <td>0</td>\n",
       "      <td>0</td>\n",
       "      <td>0</td>\n",
       "      <td>0</td>\n",
       "      <td>Anger</td>\n",
       "      <td>Sadness</td>\n",
       "      <td>Sadness</td>\n",
       "    </tr>\n",
       "  </tbody>\n",
       "</table>\n",
       "<p>5 rows × 21 columns</p>\n",
       "</div>"
      ],
      "text/plain": [
       "   Sentence_id Prior_Emotion  \\\n",
       "0          271          Fear   \n",
       "4          509       Sadness   \n",
       "6          218          Fear   \n",
       "8          553       Sadness   \n",
       "9           58         Anger   \n",
       "\n",
       "                                            Sentence Temporal_Distance  \\\n",
       "0  ... when my 2 year old broke her leg, and we f...                 Y   \n",
       "4                      ... when my Gran passed away.                 Y   \n",
       "6  ... when an aeroplane I was on hit a heavy tur...                 Y   \n",
       "8  ... when my lover Pierre-Guillaume left me for...                 M   \n",
       "9  ... when someone hit my wife's car and drove a...                 W   \n",
       "\n",
       "  Intensity Duration Gender            City Country  Worker_id  ... Anger  \\\n",
       "0        Vi      Dom     Ml         Bristol     GBR         87  ...     0   \n",
       "4        Vi      Dom     Fl  Stoke-on-trent     GBR         92  ...     0   \n",
       "6        Vi       Sh     Ml         Prescot     GBR         63  ...     0   \n",
       "8        Vi      Dom     Fl             NaN     GBR        105  ...     4   \n",
       "9        Mi        H     Ml         Bristol     GBR         87  ...     5   \n",
       "\n",
       "   Disgust  Fear  Guilt  Joy  Sadness  Shame  Annotator_Majority_Label  \\\n",
       "0        0     0      1    0        3      1                   Sadness   \n",
       "4        0     0      0    0        5      0                   Sadness   \n",
       "6        0     5      0    0        0      0                      Fear   \n",
       "8        0     0      0    0        1      0                     Anger   \n",
       "9        0     0      0    0        0      0                     Anger   \n",
       "\n",
       "  Leia_Label Leia_Label_Clean  \n",
       "0       Fear          Sadness  \n",
       "4    Sadness          Sadness  \n",
       "6       Fear             Fear  \n",
       "8    Sadness          Sadness  \n",
       "9    Sadness          Sadness  \n",
       "\n",
       "[5 rows x 21 columns]"
      ]
     },
     "execution_count": 49,
     "metadata": {},
     "output_type": "execute_result"
    }
   ],
   "source": [
    "#replace Happiness or Affection prediction to Joy\n",
    "df[['Leia_Label', 'Leia_Label_Clean']] = df[['Leia_Label', 'Leia_Label_Clean']].replace(['Happiness', 'Affection'], 'Joy')\n",
    "df.head()"
   ]
  },
  {
   "cell_type": "markdown",
   "metadata": {},
   "source": [
    "#### 6.4 Analysis\n",
    "* Compare the performance of the two approaches, with each other, as well as with the performance of the human majority using the metrics introduced in part 1 (accuracy, precision, recall, f1 score) or other metrics you find interesting. Create informative visualizations to aid the comparison.\n",
    "* Discuss your results. \n",
    "* Are the models accurately predicting human emotions?\n",
    "* Which approach seems to work better? Why?\n",
    "* What kind of other/additional preprocessing could we perform to improve the model's predictions?"
   ]
  },
  {
   "cell_type": "code",
   "execution_count": 50,
   "metadata": {},
   "outputs": [],
   "source": [
    "from sklearn.metrics import precision_score, recall_score, f1_score"
   ]
  },
  {
   "cell_type": "code",
   "execution_count": 51,
   "metadata": {},
   "outputs": [
    {
     "name": "stderr",
     "output_type": "stream",
     "text": [
      "/Users/elenaputilova/anaconda3/lib/python3.10/site-packages/sklearn/metrics/_classification.py:1344: UndefinedMetricWarning: Recall is ill-defined and being set to 0.0 in labels with no true samples. Use `zero_division` parameter to control this behavior.\n",
      "  _warn_prf(average, modifier, msg_start, len(result))\n"
     ]
    }
   ],
   "source": [
    "# comapre accuracy \n",
    "Leia_label_accuracy = accuracy_score(df['Prior_Emotion'], df['Leia_Label'])\n",
    "Leia_label_clean_accuracy = accuracy_score(df['Prior_Emotion'], df['Leia_Label_Clean'])\n",
    "Human_accuracy = accuracy_score(df['Prior_Emotion'], df['Annotator_Majority_Label'])\n",
    "\n",
    "# comapre precision\n",
    "Leia_label_precision = precision_score(df['Prior_Emotion'], df['Leia_Label'], average=None)\n",
    "Leia_label_clean_precision = precision_score(df['Prior_Emotion'], df['Leia_Label_Clean'], average=None)\n",
    "Human_pre = precision_score(df['Prior_Emotion'], df['Annotator_Majority_Label'], average=None)\n",
    "\n",
    "# comapre recall \n",
    "Leia_label_recall = recall_score(df['Prior_Emotion'], df['Leia_Label'], average=None)\n",
    "Leia_label_clean_recall = recall_score(df['Prior_Emotion'], df['Leia_Label_Clean'], average=None)\n",
    "Human_rec = recall_score(df['Prior_Emotion'], df['Annotator_Majority_Label'], average=None)\n",
    "\n",
    "# comapre F1 score\n",
    "Leia_label_f1_score = f1_score(df['Prior_Emotion'], df['Leia_Label'], average=None)\n",
    "Leia_label_clean_f1_score = f1_score(df['Prior_Emotion'], df['Leia_Label_Clean'], average=None)\n",
    "Human_f1 = f1_score(df['Prior_Emotion'], df['Annotator_Majority_Label'], average=None)"
   ]
  },
  {
   "cell_type": "code",
   "execution_count": 88,
   "metadata": {},
   "outputs": [
    {
     "data": {
      "text/html": [
       "<div>\n",
       "<style scoped>\n",
       "    .dataframe tbody tr th:only-of-type {\n",
       "        vertical-align: middle;\n",
       "    }\n",
       "\n",
       "    .dataframe tbody tr th {\n",
       "        vertical-align: top;\n",
       "    }\n",
       "\n",
       "    .dataframe thead th {\n",
       "        text-align: right;\n",
       "    }\n",
       "</style>\n",
       "<table border=\"1\" class=\"dataframe\">\n",
       "  <thead>\n",
       "    <tr style=\"text-align: right;\">\n",
       "      <th></th>\n",
       "      <th>Metric</th>\n",
       "      <th>Leia_label</th>\n",
       "      <th>Leia_label_clean</th>\n",
       "      <th>Annotator_Majority_Label</th>\n",
       "    </tr>\n",
       "  </thead>\n",
       "  <tbody>\n",
       "    <tr>\n",
       "      <th>0</th>\n",
       "      <td>Accuracy</td>\n",
       "      <td>0.770000</td>\n",
       "      <td>0.780000</td>\n",
       "      <td>0.910000</td>\n",
       "    </tr>\n",
       "    <tr>\n",
       "      <th>1</th>\n",
       "      <td>Precision</td>\n",
       "      <td>0.814885</td>\n",
       "      <td>0.807363</td>\n",
       "      <td>0.531349</td>\n",
       "    </tr>\n",
       "    <tr>\n",
       "      <th>2</th>\n",
       "      <td>Recall</td>\n",
       "      <td>0.767483</td>\n",
       "      <td>0.776224</td>\n",
       "      <td>0.520480</td>\n",
       "    </tr>\n",
       "    <tr>\n",
       "      <th>3</th>\n",
       "      <td>F1 Score</td>\n",
       "      <td>0.765555</td>\n",
       "      <td>0.781387</td>\n",
       "      <td>0.525690</td>\n",
       "    </tr>\n",
       "  </tbody>\n",
       "</table>\n",
       "</div>"
      ],
      "text/plain": [
       "      Metric  Leia_label  Leia_label_clean  Annotator_Majority_Label\n",
       "0   Accuracy    0.770000          0.780000                  0.910000\n",
       "1  Precision    0.814885          0.807363                  0.531349\n",
       "2     Recall    0.767483          0.776224                  0.520480\n",
       "3   F1 Score    0.765555          0.781387                  0.525690"
      ]
     },
     "execution_count": 88,
     "metadata": {},
     "output_type": "execute_result"
    }
   ],
   "source": [
    "#convert to dataframe \n",
    "data = {\n",
    "    'Metric': ['Accuracy', 'Precision', 'Recall', 'F1 Score'],\n",
    "    'Leia_label': [round(Leia_label_accuracy, 2), Leia_label_precision.mean(), Leia_label_recall.mean(), Leia_label_f1_score.mean()],\n",
    "    'Leia_label_clean': [round(Leia_label_clean_accuracy, 2), Leia_label_clean_precision.mean(), Leia_label_clean_recall.mean(), Leia_label_clean_f1_score.mean()],\n",
    "    'Annotator_Majority_Label': [round(Human_accuracy, 2), Human_pre.mean(), Human_rec.mean(), Human_f1.mean()]}\n",
    "\n",
    "# Create the DataFrame\n",
    "df_scores = pd.DataFrame(data)\n",
    "df_scores"
   ]
  },
  {
   "cell_type": "code",
   "execution_count": 89,
   "metadata": {},
   "outputs": [],
   "source": [
    "# Set the Metric column as the index for easier plotting\n",
    "df_scores.set_index('Metric', inplace=True)"
   ]
  },
  {
   "cell_type": "code",
   "execution_count": 90,
   "metadata": {
    "scrolled": false
   },
   "outputs": [
    {
     "data": {
      "image/png": "[encoded data removed]",
      "text/plain": [
       "<Figure size 1200x400 with 1 Axes>"
      ]
     },
     "metadata": {},
     "output_type": "display_data"
    }
   ],
   "source": [
    "import matplotlib.pyplot as plt\n",
    "\n",
    "# Plot the scores\n",
    "df_scores.plot(kind='bar', rot=0, figsize=(12,4), grid=True)\n",
    "\n",
    "# Add labels and title\n",
    "plt.xlabel('Metric')\n",
    "plt.ylabel('Score')\n",
    "plt.title('Comparison of methods')\n",
    "\n",
    "# Display the plot\n",
    "plt.show();"
   ]
  },
  {
   "cell_type": "markdown",
   "metadata": {},
   "source": [
    "The classification with \"Leia_label_clean\" has an accuracy of 0.78, which is higher than the other two methods. It also has a precision of 0.807, which is higher than the other two methods. The method with labeles \"Leia_label_clean\" has a recall of 0.776, which is higher than the other two methods. F1 Score combines precision and recall into a single metric by calculating their harmonic mean. The method labeled \"Leia_label_clean\" has an F1 score of 0.781, which is higher than the other two methods.\n",
    "Human classifications has the highest accuracy, but lower precision, recall and F1 score. \n",
    "Based on these metrics, the method with cleaned text appears to perform better. \n",
    "\n",
    "To improve the models performing we can clean the text,  removing unwanted characters, symbols, and punctuation from the text. Also we can remove stop words to reduce noise and handle Emojis, which represent the true emotions. "
   ]
  },
  {
   "cell_type": "markdown",
   "metadata": {},
   "source": []
  },
  {
   "cell_type": "markdown",
   "metadata": {},
   "source": [
    "### Exercise 7 *(6 points)*"
   ]
  },
  {
   "cell_type": "markdown",
   "metadata": {},
   "source": [
    "#### 7.1 Data annotation\n",
    "* In the following exercise you will need to test emotion detection methods on data from [Vent](https://www.vent.co/), a website where users talk about their feelings. \n",
    "* On GitHub, in your `a03` folder you can find 3 files. First open `sample_for_labeling.csv`, and label each row according the emotion the sentence expresses. The possible classes are: 0 (Sadness), 1 (Affection), 2 (Fear), 3 (Happiness), 4 (Anger). ***Important: Make sure to upload the labeled data with your submission.***\n",
    "* After you finished labeling the data load it as a pandas dataframe. Also load `sample_with_labels.csv` as a dataframe, which contains the actual labels of the data.\n",
    "* Merge the two dataframes, and rename the column containing your labels as `label_human`.\n",
    "* Rename the class ids (0, 1, 2, ...) stored in the `label`, and `label_human` columns to the class names (Sadness, Affection, ...)."
   ]
  },
  {
   "cell_type": "code",
   "execution_count": 55,
   "metadata": {},
   "outputs": [
    {
     "data": {
      "text/html": [
       "<div>\n",
       "<style scoped>\n",
       "    .dataframe tbody tr th:only-of-type {\n",
       "        vertical-align: middle;\n",
       "    }\n",
       "\n",
       "    .dataframe tbody tr th {\n",
       "        vertical-align: top;\n",
       "    }\n",
       "\n",
       "    .dataframe thead th {\n",
       "        text-align: right;\n",
       "    }\n",
       "</style>\n",
       "<table border=\"1\" class=\"dataframe\">\n",
       "  <thead>\n",
       "    <tr style=\"text-align: right;\">\n",
       "      <th></th>\n",
       "      <th>text</th>\n",
       "      <th>label</th>\n",
       "    </tr>\n",
       "  </thead>\n",
       "  <tbody>\n",
       "    <tr>\n",
       "      <th>0</th>\n",
       "      <td>there are so many questions i have honestlywha...</td>\n",
       "      <td>1</td>\n",
       "    </tr>\n",
       "    <tr>\n",
       "      <th>1</th>\n",
       "      <td>I'm just gonna stop looking for my \"one\" and j...</td>\n",
       "      <td>0</td>\n",
       "    </tr>\n",
       "    <tr>\n",
       "      <th>2</th>\n",
       "      <td>I want you so bad. So bad. I miss you.</td>\n",
       "      <td>1</td>\n",
       "    </tr>\n",
       "    <tr>\n",
       "      <th>3</th>\n",
       "      <td>i want to help people, i want to do good, i wa...</td>\n",
       "      <td>0</td>\n",
       "    </tr>\n",
       "    <tr>\n",
       "      <th>4</th>\n",
       "      <td>Keeping it positive no matter how negative it ...</td>\n",
       "      <td>3</td>\n",
       "    </tr>\n",
       "  </tbody>\n",
       "</table>\n",
       "</div>"
      ],
      "text/plain": [
       "                                                text  label\n",
       "0  there are so many questions i have honestlywha...      1\n",
       "1  I'm just gonna stop looking for my \"one\" and j...      0\n",
       "2             I want you so bad. So bad. I miss you.      1\n",
       "3  i want to help people, i want to do good, i wa...      0\n",
       "4  Keeping it positive no matter how negative it ...      3"
      ]
     },
     "execution_count": 55,
     "metadata": {},
     "output_type": "execute_result"
    }
   ],
   "source": [
    "# open file\n",
    "sample = pd.read_csv('sample_for_labeling.csv')\n",
    "sample = sample.drop('Unnamed: 0', axis = 1)\n",
    "sample.head()"
   ]
  },
  {
   "cell_type": "code",
   "execution_count": 56,
   "metadata": {},
   "outputs": [
    {
     "data": {
      "text/html": [
       "<div>\n",
       "<style scoped>\n",
       "    .dataframe tbody tr th:only-of-type {\n",
       "        vertical-align: middle;\n",
       "    }\n",
       "\n",
       "    .dataframe tbody tr th {\n",
       "        vertical-align: top;\n",
       "    }\n",
       "\n",
       "    .dataframe thead th {\n",
       "        text-align: right;\n",
       "    }\n",
       "</style>\n",
       "<table border=\"1\" class=\"dataframe\">\n",
       "  <thead>\n",
       "    <tr style=\"text-align: right;\">\n",
       "      <th></th>\n",
       "      <th>text</th>\n",
       "      <th>label</th>\n",
       "    </tr>\n",
       "  </thead>\n",
       "  <tbody>\n",
       "    <tr>\n",
       "      <th>0</th>\n",
       "      <td>there are so many questions i have honestlywha...</td>\n",
       "      <td>1</td>\n",
       "    </tr>\n",
       "    <tr>\n",
       "      <th>1</th>\n",
       "      <td>I'm just gonna stop looking for my \"one\" and j...</td>\n",
       "      <td>0</td>\n",
       "    </tr>\n",
       "    <tr>\n",
       "      <th>2</th>\n",
       "      <td>I want you so bad. So bad. I miss you.</td>\n",
       "      <td>0</td>\n",
       "    </tr>\n",
       "    <tr>\n",
       "      <th>3</th>\n",
       "      <td>i want to help people, i want to do good, i wa...</td>\n",
       "      <td>0</td>\n",
       "    </tr>\n",
       "    <tr>\n",
       "      <th>4</th>\n",
       "      <td>Keeping it positive no matter how negative it ...</td>\n",
       "      <td>3</td>\n",
       "    </tr>\n",
       "  </tbody>\n",
       "</table>\n",
       "</div>"
      ],
      "text/plain": [
       "                                                text  label\n",
       "0  there are so many questions i have honestlywha...      1\n",
       "1  I'm just gonna stop looking for my \"one\" and j...      0\n",
       "2             I want you so bad. So bad. I miss you.      0\n",
       "3  i want to help people, i want to do good, i wa...      0\n",
       "4  Keeping it positive no matter how negative it ...      3"
      ]
     },
     "execution_count": 56,
     "metadata": {},
     "output_type": "execute_result"
    }
   ],
   "source": [
    "sample2 = pd.read_csv('sample_with_labels.csv')\n",
    "sample2.head()"
   ]
  },
  {
   "cell_type": "code",
   "execution_count": 57,
   "metadata": {
    "scrolled": false
   },
   "outputs": [
    {
     "data": {
      "text/html": [
       "<div>\n",
       "<style scoped>\n",
       "    .dataframe tbody tr th:only-of-type {\n",
       "        vertical-align: middle;\n",
       "    }\n",
       "\n",
       "    .dataframe tbody tr th {\n",
       "        vertical-align: top;\n",
       "    }\n",
       "\n",
       "    .dataframe thead th {\n",
       "        text-align: right;\n",
       "    }\n",
       "</style>\n",
       "<table border=\"1\" class=\"dataframe\">\n",
       "  <thead>\n",
       "    <tr style=\"text-align: right;\">\n",
       "      <th></th>\n",
       "      <th>text</th>\n",
       "      <th>label_human</th>\n",
       "      <th>label</th>\n",
       "    </tr>\n",
       "  </thead>\n",
       "  <tbody>\n",
       "    <tr>\n",
       "      <th>0</th>\n",
       "      <td>there are so many questions i have honestlywha...</td>\n",
       "      <td>1</td>\n",
       "      <td>1</td>\n",
       "    </tr>\n",
       "    <tr>\n",
       "      <th>1</th>\n",
       "      <td>I'm just gonna stop looking for my \"one\" and j...</td>\n",
       "      <td>0</td>\n",
       "      <td>0</td>\n",
       "    </tr>\n",
       "    <tr>\n",
       "      <th>2</th>\n",
       "      <td>I want you so bad. So bad. I miss you.</td>\n",
       "      <td>1</td>\n",
       "      <td>0</td>\n",
       "    </tr>\n",
       "    <tr>\n",
       "      <th>3</th>\n",
       "      <td>i want to help people, i want to do good, i wa...</td>\n",
       "      <td>0</td>\n",
       "      <td>0</td>\n",
       "    </tr>\n",
       "    <tr>\n",
       "      <th>4</th>\n",
       "      <td>Keeping it positive no matter how negative it ...</td>\n",
       "      <td>3</td>\n",
       "      <td>3</td>\n",
       "    </tr>\n",
       "  </tbody>\n",
       "</table>\n",
       "</div>"
      ],
      "text/plain": [
       "                                                text  label_human  label\n",
       "0  there are so many questions i have honestlywha...            1      1\n",
       "1  I'm just gonna stop looking for my \"one\" and j...            0      0\n",
       "2             I want you so bad. So bad. I miss you.            1      0\n",
       "3  i want to help people, i want to do good, i wa...            0      0\n",
       "4  Keeping it positive no matter how negative it ...            3      3"
      ]
     },
     "execution_count": 57,
     "metadata": {},
     "output_type": "execute_result"
    }
   ],
   "source": [
    "sample = sample.merge(sample2, on='text')\n",
    "sample.columns = ['text', 'label_human', 'label']\n",
    "sample.head()"
   ]
  },
  {
   "cell_type": "code",
   "execution_count": 58,
   "metadata": {},
   "outputs": [],
   "source": [
    "sample[['label_human', 'label']] = sample[['label_human', 'label']].replace({\n",
    "    0: 'Sadness',\n",
    "    1: 'Affection',\n",
    "    2: 'Fear',\n",
    "    3: 'Happiness',\n",
    "    4: 'Anger'\n",
    "})"
   ]
  },
  {
   "cell_type": "code",
   "execution_count": 59,
   "metadata": {},
   "outputs": [
    {
     "data": {
      "text/html": [
       "<div>\n",
       "<style scoped>\n",
       "    .dataframe tbody tr th:only-of-type {\n",
       "        vertical-align: middle;\n",
       "    }\n",
       "\n",
       "    .dataframe tbody tr th {\n",
       "        vertical-align: top;\n",
       "    }\n",
       "\n",
       "    .dataframe thead th {\n",
       "        text-align: right;\n",
       "    }\n",
       "</style>\n",
       "<table border=\"1\" class=\"dataframe\">\n",
       "  <thead>\n",
       "    <tr style=\"text-align: right;\">\n",
       "      <th></th>\n",
       "      <th>text</th>\n",
       "      <th>label_human</th>\n",
       "      <th>label</th>\n",
       "    </tr>\n",
       "  </thead>\n",
       "  <tbody>\n",
       "    <tr>\n",
       "      <th>0</th>\n",
       "      <td>there are so many questions i have honestlywha...</td>\n",
       "      <td>Affection</td>\n",
       "      <td>Affection</td>\n",
       "    </tr>\n",
       "    <tr>\n",
       "      <th>1</th>\n",
       "      <td>I'm just gonna stop looking for my \"one\" and j...</td>\n",
       "      <td>Sadness</td>\n",
       "      <td>Sadness</td>\n",
       "    </tr>\n",
       "    <tr>\n",
       "      <th>2</th>\n",
       "      <td>I want you so bad. So bad. I miss you.</td>\n",
       "      <td>Affection</td>\n",
       "      <td>Sadness</td>\n",
       "    </tr>\n",
       "    <tr>\n",
       "      <th>3</th>\n",
       "      <td>i want to help people, i want to do good, i wa...</td>\n",
       "      <td>Sadness</td>\n",
       "      <td>Sadness</td>\n",
       "    </tr>\n",
       "    <tr>\n",
       "      <th>4</th>\n",
       "      <td>Keeping it positive no matter how negative it ...</td>\n",
       "      <td>Happiness</td>\n",
       "      <td>Happiness</td>\n",
       "    </tr>\n",
       "  </tbody>\n",
       "</table>\n",
       "</div>"
      ],
      "text/plain": [
       "                                                text label_human      label\n",
       "0  there are so many questions i have honestlywha...   Affection  Affection\n",
       "1  I'm just gonna stop looking for my \"one\" and j...     Sadness    Sadness\n",
       "2             I want you so bad. So bad. I miss you.   Affection    Sadness\n",
       "3  i want to help people, i want to do good, i wa...     Sadness    Sadness\n",
       "4  Keeping it positive no matter how negative it ...   Happiness  Happiness"
      ]
     },
     "execution_count": 59,
     "metadata": {},
     "output_type": "execute_result"
    }
   ],
   "source": [
    "sample.head()"
   ]
  },
  {
   "cell_type": "markdown",
   "metadata": {},
   "source": [
    "#### 7.2 LEIA\n",
    "* Use the [LEIA](https://huggingface.co/LEIA/LEIA-base) model introduced in the previous exercise to classify the sentences and store the results in a column named `label_leia`."
   ]
  },
  {
   "cell_type": "code",
   "execution_count": 60,
   "metadata": {},
   "outputs": [],
   "source": [
    "# add leia label \n",
    "sample['label_leia'] = sample['text'].apply(lambda x: emotions.get(model(**tokenizer(x, truncation=True, padding=True, return_tensors=\"pt\")).logits.argmax(dim=1).item()))"
   ]
  },
  {
   "cell_type": "code",
   "execution_count": 61,
   "metadata": {},
   "outputs": [
    {
     "data": {
      "text/html": [
       "<div>\n",
       "<style scoped>\n",
       "    .dataframe tbody tr th:only-of-type {\n",
       "        vertical-align: middle;\n",
       "    }\n",
       "\n",
       "    .dataframe tbody tr th {\n",
       "        vertical-align: top;\n",
       "    }\n",
       "\n",
       "    .dataframe thead th {\n",
       "        text-align: right;\n",
       "    }\n",
       "</style>\n",
       "<table border=\"1\" class=\"dataframe\">\n",
       "  <thead>\n",
       "    <tr style=\"text-align: right;\">\n",
       "      <th></th>\n",
       "      <th>text</th>\n",
       "      <th>label_human</th>\n",
       "      <th>label</th>\n",
       "      <th>label_leia</th>\n",
       "    </tr>\n",
       "  </thead>\n",
       "  <tbody>\n",
       "    <tr>\n",
       "      <th>0</th>\n",
       "      <td>there are so many questions i have honestlywha...</td>\n",
       "      <td>Affection</td>\n",
       "      <td>Affection</td>\n",
       "      <td>Happiness</td>\n",
       "    </tr>\n",
       "    <tr>\n",
       "      <th>1</th>\n",
       "      <td>I'm just gonna stop looking for my \"one\" and j...</td>\n",
       "      <td>Sadness</td>\n",
       "      <td>Sadness</td>\n",
       "      <td>Sadness</td>\n",
       "    </tr>\n",
       "    <tr>\n",
       "      <th>2</th>\n",
       "      <td>I want you so bad. So bad. I miss you.</td>\n",
       "      <td>Affection</td>\n",
       "      <td>Sadness</td>\n",
       "      <td>Sadness</td>\n",
       "    </tr>\n",
       "    <tr>\n",
       "      <th>3</th>\n",
       "      <td>i want to help people, i want to do good, i wa...</td>\n",
       "      <td>Sadness</td>\n",
       "      <td>Sadness</td>\n",
       "      <td>Sadness</td>\n",
       "    </tr>\n",
       "    <tr>\n",
       "      <th>4</th>\n",
       "      <td>Keeping it positive no matter how negative it ...</td>\n",
       "      <td>Happiness</td>\n",
       "      <td>Happiness</td>\n",
       "      <td>Happiness</td>\n",
       "    </tr>\n",
       "  </tbody>\n",
       "</table>\n",
       "</div>"
      ],
      "text/plain": [
       "                                                text label_human      label  \\\n",
       "0  there are so many questions i have honestlywha...   Affection  Affection   \n",
       "1  I'm just gonna stop looking for my \"one\" and j...     Sadness    Sadness   \n",
       "2             I want you so bad. So bad. I miss you.   Affection    Sadness   \n",
       "3  i want to help people, i want to do good, i wa...     Sadness    Sadness   \n",
       "4  Keeping it positive no matter how negative it ...   Happiness  Happiness   \n",
       "\n",
       "  label_leia  \n",
       "0  Happiness  \n",
       "1    Sadness  \n",
       "2    Sadness  \n",
       "3    Sadness  \n",
       "4  Happiness  "
      ]
     },
     "execution_count": 61,
     "metadata": {},
     "output_type": "execute_result"
    }
   ],
   "source": [
    "sample.head()"
   ]
  },
  {
   "cell_type": "markdown",
   "metadata": {},
   "source": [
    "#### 7.3 Openai models\n",
    "* In the following exercise we will work with the [openai API](https://platform.openai.com/docs/api-reference), an API which allows you to access very powerful AI models. Your task will be to use a [text completion](https://platform.openai.com/docs/api-reference/completions/) or a [chat completion](https://platform.openai.com/docs/guides/chat/introduction) model to classify the sentences in `sample_with_labels.csv` according to their emotion (Sadness, Affection, Fear, Happiness, Anger).\n",
    "* You can sign up for the API by providing a phone number, and get 5 USD of free credits, which should be more than enough to complete this exercise.\n",
    "* If you use your own account, you can use any text completion/chat completion model to complete the exercise, you are also allowed to [fine-tune](https://platform.openai.com/docs/api-reference/fine-tunes) one of the text completion models, and use it for classification.\n",
    "* If you can't/don't want to sign up for the API, we created an API wrapper, through wich you can use the `gpt-3.5-turbo` model. We set a limit of 1_000_000 tokens per API key, which should be more than enough to complete the task, so feel free to experiment to find the best prompt.\n",
    "* In your `a03` folder, you can find a file named `api_key.txt`, which stores your API key you will need to use the API wrapper. ***Important: this is not a real openai API key, we use it internally in the API wrapper, to monitor usage***\n",
    "* To set up the API wrapper with the openai module, run the following code:\n",
    "```python\n",
    "import openai\n",
    "openai.api_base = 'https://smdapi-1-a6938250.deta.app'\n",
    "your_api_key = '' # your key from api_key.txt\n",
    "openai.api_key = your_api_key\n",
    "```\n",
    "* After you run this setup, you can use the `openai.ChatCompletion.create` function just like when your are using the openai module ([documentation](https://platform.openai.com/docs/guides/chat)).\n",
    "* Store the results in a column named `label_gpt`."
   ]
  },
  {
   "cell_type": "code",
   "execution_count": 62,
   "metadata": {},
   "outputs": [],
   "source": [
    "import openai\n",
    "openai.api_base = 'https://smdapi-1-a6938250.deta.app'\n",
    "your_api_key = '63enwKSfG36TbQL375iY' # your key from api_key.txt\n",
    "openai.api_key = your_api_key"
   ]
  },
  {
   "cell_type": "code",
   "execution_count": 63,
   "metadata": {},
   "outputs": [
    {
     "data": {
      "text/plain": [
       "<OpenAIObject chat.completion id=chatcmpl-7TzldKN0qBzXSCxtvtoym4p15x7Q4 at 0x7fa42400de40> JSON: {\n",
       "  \"id\": \"chatcmpl-7TzldKN0qBzXSCxtvtoym4p15x7Q4\",\n",
       "  \"object\": \"chat.completion\",\n",
       "  \"created\": 1687383301,\n",
       "  \"model\": \"gpt-3.5-turbo-0301\",\n",
       "  \"choices\": [\n",
       "    {\n",
       "      \"index\": 0,\n",
       "      \"message\": {\n",
       "        \"role\": \"assistant\",\n",
       "        \"content\": \"The 2020 World Series was played at Globe Life Field in Arlington, Texas.\"\n",
       "      },\n",
       "      \"finish_reason\": \"stop\"\n",
       "    }\n",
       "  ],\n",
       "  \"usage\": {\n",
       "    \"prompt_tokens\": 57,\n",
       "    \"completion_tokens\": 17,\n",
       "    \"total_tokens\": 74\n",
       "  }\n",
       "}"
      ]
     },
     "execution_count": 63,
     "metadata": {},
     "output_type": "execute_result"
    }
   ],
   "source": [
    "# hint: chat completion example from https://platform.openai.com/docs/guides/chat/introduction\n",
    "openai.ChatCompletion.create(\n",
    "  model=\"gpt-3.5-turbo\",\n",
    "  messages=[\n",
    "        {\"role\": \"system\", \"content\": \"You are a helpful assistant.\"},\n",
    "        {\"role\": \"user\", \"content\": \"Who won the world series in 2020?\"},\n",
    "        {\"role\": \"assistant\", \"content\": \"The Los Angeles Dodgers won the World Series in 2020.\"},\n",
    "        {\"role\": \"user\", \"content\": \"Where was it played?\"}\n",
    "    ]\n",
    ")"
   ]
  },
  {
   "cell_type": "code",
   "execution_count": 64,
   "metadata": {},
   "outputs": [],
   "source": [
    "# function to classify text \n",
    "def classify_sentence(sentence):\n",
    "    response = openai.ChatCompletion.create(\n",
    "      model=\"gpt-3.5-turbo\",\n",
    "        \n",
    "      # train the model \n",
    "      messages=[\n",
    "            {\"role\": \"system\", \"content\": \"You are a helpful assistant that classifies sentences into categories of emotions: Sadness, Affection, Fear, Happiness, Anger. Give as an answer only one of the class.\"},\n",
    "            {\"role\": \"user\", \"content\": \"I miss my old friends so much.\"},\n",
    "            {\"role\": \"assistant\", \"content\": \"Sadness\"},\n",
    "            {\"role\": \"user\", \"content\": \"I had the best day ever at the amusement park!\"},\n",
    "            {\"role\": \"assistant\", \"content\": \"Happiness\"},\n",
    "            {\"role\": \"user\", \"content\": \"'there are so many questions i have honestlywhat is the counterargument to the communism works _in theory_ because human nature rherotic other than capitalism is worse? how are we sure wed be able to enforce something like that ? would it have to be totalitarian ?im not as smart as i wish i was\"},\n",
    "            {\"role\": \"assistant\", \"content\": \"Sadness\"},\n",
    "            {\"role\": \"user\", \"content\": \"I feel weird and sad and happy\"},\n",
    "            {\"role\": \"assistant\", \"content\": \"Sadness\"},\n",
    "            {\"role\": \"user\", \"content\": \"I miss you\"},\n",
    "            {\"role\": \"assistant\", \"content\": \"Sadness\"},\n",
    "            {\"role\": \"user\", \"content\": \"I can't do this anymore\"},\n",
    "            {\"role\": \"assistant\", \"content\": \"Anger\"},\n",
    "            {\"role\": \"user\", \"content\": \"Oh my god!\"},\n",
    "            {\"role\": \"assistant\", \"content\": \"Happiness\"},\n",
    "            {\"role\": \"user\", \"content\": f\"{sentence}\"},\n",
    "             ]\n",
    "             )\n",
    "    #get the label \n",
    "    assistant_message = response['choices'][0]['message']['content']\n",
    "    \n",
    "    return assistant_message"
   ]
  },
  {
   "cell_type": "code",
   "execution_count": 65,
   "metadata": {},
   "outputs": [],
   "source": [
    "# apply gpt classification \n",
    "sample['label_gpt'] = sample['text'].apply(classify_sentence)"
   ]
  },
  {
   "cell_type": "code",
   "execution_count": 67,
   "metadata": {},
   "outputs": [
    {
     "data": {
      "text/html": [
       "<div>\n",
       "<style scoped>\n",
       "    .dataframe tbody tr th:only-of-type {\n",
       "        vertical-align: middle;\n",
       "    }\n",
       "\n",
       "    .dataframe tbody tr th {\n",
       "        vertical-align: top;\n",
       "    }\n",
       "\n",
       "    .dataframe thead th {\n",
       "        text-align: right;\n",
       "    }\n",
       "</style>\n",
       "<table border=\"1\" class=\"dataframe\">\n",
       "  <thead>\n",
       "    <tr style=\"text-align: right;\">\n",
       "      <th></th>\n",
       "      <th>text</th>\n",
       "      <th>label_human</th>\n",
       "      <th>label</th>\n",
       "      <th>label_leia</th>\n",
       "      <th>label_gpt</th>\n",
       "    </tr>\n",
       "  </thead>\n",
       "  <tbody>\n",
       "    <tr>\n",
       "      <th>0</th>\n",
       "      <td>there are so many questions i have honestlywha...</td>\n",
       "      <td>Affection</td>\n",
       "      <td>Affection</td>\n",
       "      <td>Happiness</td>\n",
       "      <td>Fear</td>\n",
       "    </tr>\n",
       "    <tr>\n",
       "      <th>1</th>\n",
       "      <td>I'm just gonna stop looking for my \"one\" and j...</td>\n",
       "      <td>Sadness</td>\n",
       "      <td>Sadness</td>\n",
       "      <td>Sadness</td>\n",
       "      <td>Sadness</td>\n",
       "    </tr>\n",
       "    <tr>\n",
       "      <th>2</th>\n",
       "      <td>I want you so bad. So bad. I miss you.</td>\n",
       "      <td>Affection</td>\n",
       "      <td>Sadness</td>\n",
       "      <td>Sadness</td>\n",
       "      <td>Affection</td>\n",
       "    </tr>\n",
       "    <tr>\n",
       "      <th>3</th>\n",
       "      <td>i want to help people, i want to do good, i wa...</td>\n",
       "      <td>Sadness</td>\n",
       "      <td>Sadness</td>\n",
       "      <td>Sadness</td>\n",
       "      <td>Sadness</td>\n",
       "    </tr>\n",
       "    <tr>\n",
       "      <th>4</th>\n",
       "      <td>Keeping it positive no matter how negative it ...</td>\n",
       "      <td>Happiness</td>\n",
       "      <td>Happiness</td>\n",
       "      <td>Happiness</td>\n",
       "      <td>Happiness</td>\n",
       "    </tr>\n",
       "    <tr>\n",
       "      <th>5</th>\n",
       "      <td>We are going to travel the world together one ...</td>\n",
       "      <td>Happiness</td>\n",
       "      <td>Happiness</td>\n",
       "      <td>Happiness</td>\n",
       "      <td>Affection</td>\n",
       "    </tr>\n",
       "    <tr>\n",
       "      <th>6</th>\n",
       "      <td>Fish Mooneys makeup in Gotham is so freaking b...</td>\n",
       "      <td>Affection</td>\n",
       "      <td>Affection</td>\n",
       "      <td>Happiness</td>\n",
       "      <td>Affection</td>\n",
       "    </tr>\n",
       "    <tr>\n",
       "      <th>7</th>\n",
       "      <td>Is there some unspoken rule that headphones HA...</td>\n",
       "      <td>Anger</td>\n",
       "      <td>Fear</td>\n",
       "      <td>Anger</td>\n",
       "      <td>Anger</td>\n",
       "    </tr>\n",
       "    <tr>\n",
       "      <th>8</th>\n",
       "      <td>Oh my god u guys were really about s4 of pll</td>\n",
       "      <td>Happiness</td>\n",
       "      <td>Happiness</td>\n",
       "      <td>Sadness</td>\n",
       "      <td>Surprise/Excitement</td>\n",
       "    </tr>\n",
       "    <tr>\n",
       "      <th>9</th>\n",
       "      <td>Guys, I just want you to remember that your wo...</td>\n",
       "      <td>Affection</td>\n",
       "      <td>Affection</td>\n",
       "      <td>Happiness</td>\n",
       "      <td>Affection</td>\n",
       "    </tr>\n",
       "    <tr>\n",
       "      <th>10</th>\n",
       "      <td>I get to go home today and I get my new phone ...</td>\n",
       "      <td>Happiness</td>\n",
       "      <td>Happiness</td>\n",
       "      <td>Affection</td>\n",
       "      <td>Happiness</td>\n",
       "    </tr>\n",
       "    <tr>\n",
       "      <th>11</th>\n",
       "      <td>I am so mad at my computer right now I could P...</td>\n",
       "      <td>Anger</td>\n",
       "      <td>Anger</td>\n",
       "      <td>Anger</td>\n",
       "      <td>Anger</td>\n",
       "    </tr>\n",
       "    <tr>\n",
       "      <th>12</th>\n",
       "      <td>Ok but can you just go the fuck to sleep? I do...</td>\n",
       "      <td>Anger</td>\n",
       "      <td>Fear</td>\n",
       "      <td>Anger</td>\n",
       "      <td>Anger</td>\n",
       "    </tr>\n",
       "    <tr>\n",
       "      <th>13</th>\n",
       "      <td>Can I just kinda leave I'm so done with chemistry</td>\n",
       "      <td>Sadness</td>\n",
       "      <td>Fear</td>\n",
       "      <td>Anger</td>\n",
       "      <td>Anger</td>\n",
       "    </tr>\n",
       "    <tr>\n",
       "      <th>14</th>\n",
       "      <td>I want some friends in my new area but I have ...</td>\n",
       "      <td>Sadness</td>\n",
       "      <td>Sadness</td>\n",
       "      <td>Sadness</td>\n",
       "      <td>Sadness</td>\n",
       "    </tr>\n",
       "    <tr>\n",
       "      <th>15</th>\n",
       "      <td>24 DAYS UNTIL CHRISTMAS YALL YEE MY FIRST CHRI...</td>\n",
       "      <td>Happiness</td>\n",
       "      <td>Happiness</td>\n",
       "      <td>Affection</td>\n",
       "      <td>Happiness</td>\n",
       "    </tr>\n",
       "    <tr>\n",
       "      <th>16</th>\n",
       "      <td>hhh i cant take this anymore</td>\n",
       "      <td>Anger</td>\n",
       "      <td>Anger</td>\n",
       "      <td>Sadness</td>\n",
       "      <td>Sadness</td>\n",
       "    </tr>\n",
       "    <tr>\n",
       "      <th>17</th>\n",
       "      <td>Why can't everything be more simple?</td>\n",
       "      <td>Sadness</td>\n",
       "      <td>Anger</td>\n",
       "      <td>Fear</td>\n",
       "      <td>Sadness</td>\n",
       "    </tr>\n",
       "    <tr>\n",
       "      <th>18</th>\n",
       "      <td>I wonder what having a relationship is like, c...</td>\n",
       "      <td>Affection</td>\n",
       "      <td>Affection</td>\n",
       "      <td>Happiness</td>\n",
       "      <td>Affection</td>\n",
       "    </tr>\n",
       "    <tr>\n",
       "      <th>19</th>\n",
       "      <td>My boyfriend &lt;3 &lt;3 &lt;3 &lt;3 I can't wait to see h...</td>\n",
       "      <td>Affection</td>\n",
       "      <td>Affection</td>\n",
       "      <td>Happiness</td>\n",
       "      <td>Affection</td>\n",
       "    </tr>\n",
       "    <tr>\n",
       "      <th>20</th>\n",
       "      <td>I really hope he's not mad at me</td>\n",
       "      <td>Fear</td>\n",
       "      <td>Fear</td>\n",
       "      <td>Fear</td>\n",
       "      <td>Fear</td>\n",
       "    </tr>\n",
       "    <tr>\n",
       "      <th>21</th>\n",
       "      <td>I want you to do me a favor tonight. When you'...</td>\n",
       "      <td>Affection</td>\n",
       "      <td>Affection</td>\n",
       "      <td>Happiness</td>\n",
       "      <td>Affection</td>\n",
       "    </tr>\n",
       "    <tr>\n",
       "      <th>22</th>\n",
       "      <td>I'm so busy this weekend that I have no time t...</td>\n",
       "      <td>Sadness</td>\n",
       "      <td>Anger</td>\n",
       "      <td>Fear</td>\n",
       "      <td>Sadness</td>\n",
       "    </tr>\n",
       "    <tr>\n",
       "      <th>23</th>\n",
       "      <td>Tomorrow is Bhai Dooj &amp; i'm sure 98% of my lis...</td>\n",
       "      <td>Happiness</td>\n",
       "      <td>Happiness</td>\n",
       "      <td>Affection</td>\n",
       "      <td>Affection</td>\n",
       "    </tr>\n",
       "    <tr>\n",
       "      <th>24</th>\n",
       "      <td>Woke up at 4am...still cannot fall asleep and ...</td>\n",
       "      <td>Anger</td>\n",
       "      <td>Anger</td>\n",
       "      <td>Anger</td>\n",
       "      <td>Anger</td>\n",
       "    </tr>\n",
       "    <tr>\n",
       "      <th>25</th>\n",
       "      <td>I'm so constantly frustrated with my girlfrien...</td>\n",
       "      <td>Sadness</td>\n",
       "      <td>Anger</td>\n",
       "      <td>Anger</td>\n",
       "      <td>Anger</td>\n",
       "    </tr>\n",
       "    <tr>\n",
       "      <th>26</th>\n",
       "      <td>okay go ahead and ignore me</td>\n",
       "      <td>Sadness</td>\n",
       "      <td>Sadness</td>\n",
       "      <td>Anger</td>\n",
       "      <td>Anger</td>\n",
       "    </tr>\n",
       "    <tr>\n",
       "      <th>27</th>\n",
       "      <td>When will I actually learn that watching scary...</td>\n",
       "      <td>Fear</td>\n",
       "      <td>Fear</td>\n",
       "      <td>Fear</td>\n",
       "      <td>Fear</td>\n",
       "    </tr>\n",
       "    <tr>\n",
       "      <th>28</th>\n",
       "      <td>I feel weird and empty and sad and happy and w...</td>\n",
       "      <td>Fear</td>\n",
       "      <td>Fear</td>\n",
       "      <td>Fear</td>\n",
       "      <td>Sadness</td>\n",
       "    </tr>\n",
       "    <tr>\n",
       "      <th>29</th>\n",
       "      <td>I wish I could turn back the time and be wiser.</td>\n",
       "      <td>Sadness</td>\n",
       "      <td>Sadness</td>\n",
       "      <td>Sadness</td>\n",
       "      <td>Sadness</td>\n",
       "    </tr>\n",
       "  </tbody>\n",
       "</table>\n",
       "</div>"
      ],
      "text/plain": [
       "                                                 text label_human      label  \\\n",
       "0   there are so many questions i have honestlywha...   Affection  Affection   \n",
       "1   I'm just gonna stop looking for my \"one\" and j...     Sadness    Sadness   \n",
       "2              I want you so bad. So bad. I miss you.   Affection    Sadness   \n",
       "3   i want to help people, i want to do good, i wa...     Sadness    Sadness   \n",
       "4   Keeping it positive no matter how negative it ...   Happiness  Happiness   \n",
       "5   We are going to travel the world together one ...   Happiness  Happiness   \n",
       "6   Fish Mooneys makeup in Gotham is so freaking b...   Affection  Affection   \n",
       "7   Is there some unspoken rule that headphones HA...       Anger       Fear   \n",
       "8        Oh my god u guys were really about s4 of pll   Happiness  Happiness   \n",
       "9   Guys, I just want you to remember that your wo...   Affection  Affection   \n",
       "10  I get to go home today and I get my new phone ...   Happiness  Happiness   \n",
       "11  I am so mad at my computer right now I could P...       Anger      Anger   \n",
       "12  Ok but can you just go the fuck to sleep? I do...       Anger       Fear   \n",
       "13  Can I just kinda leave I'm so done with chemistry     Sadness       Fear   \n",
       "14  I want some friends in my new area but I have ...     Sadness    Sadness   \n",
       "15  24 DAYS UNTIL CHRISTMAS YALL YEE MY FIRST CHRI...   Happiness  Happiness   \n",
       "16                       hhh i cant take this anymore       Anger      Anger   \n",
       "17               Why can't everything be more simple?     Sadness      Anger   \n",
       "18  I wonder what having a relationship is like, c...   Affection  Affection   \n",
       "19  My boyfriend <3 <3 <3 <3 I can't wait to see h...   Affection  Affection   \n",
       "20                   I really hope he's not mad at me        Fear       Fear   \n",
       "21  I want you to do me a favor tonight. When you'...   Affection  Affection   \n",
       "22  I'm so busy this weekend that I have no time t...     Sadness      Anger   \n",
       "23  Tomorrow is Bhai Dooj & i'm sure 98% of my lis...   Happiness  Happiness   \n",
       "24  Woke up at 4am...still cannot fall asleep and ...       Anger      Anger   \n",
       "25  I'm so constantly frustrated with my girlfrien...     Sadness      Anger   \n",
       "26                        okay go ahead and ignore me     Sadness    Sadness   \n",
       "27  When will I actually learn that watching scary...        Fear       Fear   \n",
       "28  I feel weird and empty and sad and happy and w...        Fear       Fear   \n",
       "29    I wish I could turn back the time and be wiser.     Sadness    Sadness   \n",
       "\n",
       "   label_leia            label_gpt  \n",
       "0   Happiness                 Fear  \n",
       "1     Sadness              Sadness  \n",
       "2     Sadness            Affection  \n",
       "3     Sadness              Sadness  \n",
       "4   Happiness            Happiness  \n",
       "5   Happiness            Affection  \n",
       "6   Happiness            Affection  \n",
       "7       Anger                Anger  \n",
       "8     Sadness  Surprise/Excitement  \n",
       "9   Happiness            Affection  \n",
       "10  Affection            Happiness  \n",
       "11      Anger                Anger  \n",
       "12      Anger                Anger  \n",
       "13      Anger                Anger  \n",
       "14    Sadness              Sadness  \n",
       "15  Affection            Happiness  \n",
       "16    Sadness              Sadness  \n",
       "17       Fear              Sadness  \n",
       "18  Happiness            Affection  \n",
       "19  Happiness            Affection  \n",
       "20       Fear                 Fear  \n",
       "21  Happiness            Affection  \n",
       "22       Fear              Sadness  \n",
       "23  Affection            Affection  \n",
       "24      Anger                Anger  \n",
       "25      Anger                Anger  \n",
       "26      Anger                Anger  \n",
       "27       Fear                 Fear  \n",
       "28       Fear              Sadness  \n",
       "29    Sadness              Sadness  "
      ]
     },
     "execution_count": 67,
     "metadata": {},
     "output_type": "execute_result"
    }
   ],
   "source": [
    "#check result \n",
    "sample"
   ]
  },
  {
   "cell_type": "code",
   "execution_count": 99,
   "metadata": {},
   "outputs": [],
   "source": [
    "#save result \n",
    "sample.to_csv('sample_labeled.csv')"
   ]
  },
  {
   "cell_type": "markdown",
   "metadata": {},
   "source": [
    "#### 7.4 Comparison\n",
    "* Compare the performance of the two models, with each other, as well as with the quality of your annotation using the metrics introduced in part 1 (accuracy, precision, recall, f1 score) or other metrics you find interesting. Create informative visualizations to aid the comparison.\n",
    "* Discuss your results. \n",
    "* Are the models accurately predicting human emotions?\n",
    "* Which approach seems to work better? Why?"
   ]
  },
  {
   "cell_type": "markdown",
   "metadata": {},
   "source": []
  },
  {
   "cell_type": "code",
   "execution_count": 92,
   "metadata": {},
   "outputs": [
    {
     "name": "stderr",
     "output_type": "stream",
     "text": [
      "/Users/elenaputilova/anaconda3/lib/python3.10/site-packages/sklearn/metrics/_classification.py:1344: UndefinedMetricWarning: Recall is ill-defined and being set to 0.0 in labels with no true samples. Use `zero_division` parameter to control this behavior.\n",
      "  _warn_prf(average, modifier, msg_start, len(result))\n"
     ]
    }
   ],
   "source": [
    "# comapre accuracy \n",
    "Leia_accuracy = accuracy_score(sample['label'], sample['label_leia'])\n",
    "GPT_accuracy = accuracy_score(sample['label'], sample['label_gpt'])\n",
    "Human_accuracy2 = accuracy_score(sample['label'], sample['label_human'])\n",
    "\n",
    "# comapre precision\n",
    "Leia_precision = precision_score(sample['label'], sample['label_leia'], average=None)\n",
    "GPT_precision = precision_score(sample['label'], sample['label_gpt'], average=None)\n",
    "Human_precision = precision_score(sample['label'], sample['label_human'], average=None)\n",
    "\n",
    "# comapre recall \n",
    "Leia_recall = recall_score(sample['label'], sample['label_leia'], average=None)\n",
    "GPT_recall = recall_score(sample['label'], sample['label_gpt'], average=None)\n",
    "Human_recall = recall_score(sample['label'], sample['label_human'], average=None)\n",
    "\n",
    "# comapre F1 score\n",
    "Leia_f1_score = f1_score(sample['label'], sample['label_leia'], average=None)\n",
    "GPT_f1_score = f1_score(sample['label'], sample['label_gpt'], average=None)\n",
    "Human_f1_score = f1_score(sample['label'], sample['label_human'], average=None)"
   ]
  },
  {
   "cell_type": "code",
   "execution_count": 94,
   "metadata": {},
   "outputs": [
    {
     "data": {
      "text/html": [
       "<div>\n",
       "<style scoped>\n",
       "    .dataframe tbody tr th:only-of-type {\n",
       "        vertical-align: middle;\n",
       "    }\n",
       "\n",
       "    .dataframe tbody tr th {\n",
       "        vertical-align: top;\n",
       "    }\n",
       "\n",
       "    .dataframe thead th {\n",
       "        text-align: right;\n",
       "    }\n",
       "</style>\n",
       "<table border=\"1\" class=\"dataframe\">\n",
       "  <thead>\n",
       "    <tr style=\"text-align: right;\">\n",
       "      <th></th>\n",
       "      <th>Metric</th>\n",
       "      <th>Leia_label</th>\n",
       "      <th>GPT_label</th>\n",
       "      <th>Human_Label</th>\n",
       "    </tr>\n",
       "  </thead>\n",
       "  <tbody>\n",
       "    <tr>\n",
       "      <th>0</th>\n",
       "      <td>Accuracy</td>\n",
       "      <td>0.430000</td>\n",
       "      <td>0.570000</td>\n",
       "      <td>0.770000</td>\n",
       "    </tr>\n",
       "    <tr>\n",
       "      <th>1</th>\n",
       "      <td>Precision</td>\n",
       "      <td>0.398571</td>\n",
       "      <td>0.536706</td>\n",
       "      <td>0.802540</td>\n",
       "    </tr>\n",
       "    <tr>\n",
       "      <th>2</th>\n",
       "      <td>Recall</td>\n",
       "      <td>0.433333</td>\n",
       "      <td>0.472222</td>\n",
       "      <td>0.766667</td>\n",
       "    </tr>\n",
       "    <tr>\n",
       "      <th>3</th>\n",
       "      <td>F1 Score</td>\n",
       "      <td>0.412388</td>\n",
       "      <td>0.476394</td>\n",
       "      <td>0.760373</td>\n",
       "    </tr>\n",
       "  </tbody>\n",
       "</table>\n",
       "</div>"
      ],
      "text/plain": [
       "      Metric  Leia_label  GPT_label  Human_Label\n",
       "0   Accuracy    0.430000   0.570000     0.770000\n",
       "1  Precision    0.398571   0.536706     0.802540\n",
       "2     Recall    0.433333   0.472222     0.766667\n",
       "3   F1 Score    0.412388   0.476394     0.760373"
      ]
     },
     "execution_count": 94,
     "metadata": {},
     "output_type": "execute_result"
    }
   ],
   "source": [
    "#convert to dataframe \n",
    "data2 = {\n",
    "    'Metric': ['Accuracy', 'Precision', 'Recall', 'F1 Score'],\n",
    "    'Leia_label': [round(Leia_accuracy, 2), Leia_precision.mean(), Leia_recall.mean(), Leia_f1_score.mean()],\n",
    "    'GPT_label': [round(GPT_accuracy, 2), GPT_precision.mean(), GPT_recall.mean(), GPT_f1_score.mean()],\n",
    "    'Human_Label': [round(Human_accuracy2, 2), Human_precision.mean(), Human_recall.mean(), Human_f1_score.mean()]\n",
    "}\n",
    "\n",
    "# Create the DataFrame\n",
    "df_scores2 = pd.DataFrame(data2)\n",
    "df_scores2"
   ]
  },
  {
   "cell_type": "code",
   "execution_count": 95,
   "metadata": {},
   "outputs": [],
   "source": [
    "# Set the Metric column as the index for easier plotting\n",
    "df_scores2.set_index('Metric', inplace=True)"
   ]
  },
  {
   "cell_type": "code",
   "execution_count": 96,
   "metadata": {},
   "outputs": [
    {
     "data": {
      "image/png": "[encoded data removed]",
      "text/plain": [
       "<Figure size 1200x400 with 1 Axes>"
      ]
     },
     "metadata": {},
     "output_type": "display_data"
    }
   ],
   "source": [
    "import matplotlib.pyplot as plt\n",
    "\n",
    "# Plot the scores\n",
    "df_scores2.plot(kind='bar', rot=0, figsize=(12,4), grid=True)\n",
    "\n",
    "# Add labels and title\n",
    "plt.xlabel('Metric')\n",
    "plt.ylabel('Score')\n",
    "plt.title('Comparison of Leila and GPT classifiers')\n",
    "\n",
    "# Display the plot\n",
    "plt.show();"
   ]
  },
  {
   "cell_type": "markdown",
   "metadata": {},
   "source": [
    "**Result**\n",
    "\n",
    "Accuracy: The Human labels has the highest accuracy (0.77), followed by the \"GPT_label\" method (0.57), and the lowest accuracy is observed in the \"Leia_label\" method (0.43). This metric indicates the overall correctness of the predictions.\n",
    "\n",
    "Precision: The Human labels method has the highest precision (0.802), followed by the \"GPT_label\" method (0.537), and the lowest precision is observed in the \"Leia_label\" method (0.399). \n",
    "\n",
    "Recall: The Human labels method has the highest recall (0.767), followed by the \"Leia_label\" method (0.433), and the lowest recall is observed in the \"GPT_label\" method (0.472). \n",
    "\n",
    "F1 Score: The Human labels method has the highest F1 score (0.760), followed by the \"GPT_label\" method (0.476), and the lowest F1 score is observed in the \"Leia_label\" method (0.412). \n",
    "\n",
    "Based on the metrics we can conclude that human classification works better, GPT model is on the second place and Leia model has the lowest perfomance with provided data. "
   ]
  }
 ],
 "metadata": {
  "kernelspec": {
   "display_name": "Python 3 (ipykernel)",
   "language": "python",
   "name": "python3"
  },
  "language_info": {
   "codemirror_mode": {
    "name": "ipython",
    "version": 3
   },
   "file_extension": ".py",
   "mimetype": "text/x-python",
   "name": "python",
   "nbconvert_exporter": "python",
   "pygments_lexer": "ipython3",
   "version": "3.10.9"
  },
  "vscode": {
   "interpreter": {
    "hash": "46e2835a142a16ae115bce5fddf19f27ce13b17a4ab8ded638c88ab5ce5171d2"
   }
  }
 },
 "nbformat": 4,
 "nbformat_minor": 2
}
